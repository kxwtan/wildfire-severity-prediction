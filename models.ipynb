{
  "cells": [
    {
      "cell_type": "code",
      "execution_count": 45,
      "metadata": {
        "id": "go3yZPutyCDO"
      },
      "outputs": [],
      "source": [
        "import pandas as pd\n",
        "import numpy as np\n",
        "\n",
        "import matplotlib.pyplot as plt\n",
        "\n",
        "from sklearn.compose import ColumnTransformer\n",
        "from sklearn.pipeline import Pipeline\n",
        "from sklearn.preprocessing import StandardScaler, OneHotEncoder\n",
        "from sklearn.impute import SimpleImputer\n",
        "from sklearn.neighbors import NearestNeighbors\n",
        "from sklearn.base import BaseEstimator, TransformerMixin\n",
        "from sklearn.preprocessing import OrdinalEncoder\n",
        "\n",
        "from sklearn.linear_model import LinearRegression\n",
        "from sklearn.ensemble import RandomForestClassifier\n",
        "from xgboost import XGBClassifier\n",
        "from sklearn.tree import DecisionTreeClassifier\n",
        "from sklearn.ensemble import BaggingClassifier\n",
        "from imblearn.ensemble import BalancedBaggingClassifier\n",
        "from sklearn.svm import SVC\n",
        "from sklearn.decomposition import PCA\n",
        "from sklearn.neighbors import KNeighborsClassifier\n",
        "\n",
        "from sklearn.model_selection import GridSearchCV, KFold, cross_val_score\n",
        "\n",
        "from sklearn.model_selection import train_test_split, learning_curve\n",
        "from sklearn.metrics import mean_absolute_error, mean_squared_error, accuracy_score, f1_score, confusion_matrix\n",
        "from sklearn.metrics import precision_recall_fscore_support, precision_recall_curve, classification_report\n",
        "from sklearn.model_selection import cross_val_score\n",
        "from sklearn.model_selection import learning_curve\n",
        "\n",
        "import seaborn as sns\n",
        "\n"
      ]
    },
    {
      "cell_type": "code",
      "execution_count": 2,
      "metadata": {
        "id": "FLku2yKwZdgC"
      },
      "outputs": [],
      "source": [
        "df = pd.read_csv('./wildfire-data.csv')"
      ]
    },
    {
      "cell_type": "code",
      "execution_count": 3,
      "metadata": {
        "colab": {
          "base_uri": "https://localhost:8080/",
          "height": 342
        },
        "id": "UfbfMZEiZiHk",
        "outputId": "14f952bc-c405-4c38-b56c-42b6e5074ef1"
      },
      "outputs": [
        {
          "data": {
            "application/vnd.google.colaboratory.intrinsic+json": {
              "type": "dataframe",
              "variable_name": "df"
            },
            "text/html": [
              "\n",
              "  <div id=\"df-a3781a40-edc9-4656-b23f-82b4edfa6357\" class=\"colab-df-container\">\n",
              "    <div>\n",
              "<style scoped>\n",
              "    .dataframe tbody tr th:only-of-type {\n",
              "        vertical-align: middle;\n",
              "    }\n",
              "\n",
              "    .dataframe tbody tr th {\n",
              "        vertical-align: top;\n",
              "    }\n",
              "\n",
              "    .dataframe thead th {\n",
              "        text-align: right;\n",
              "    }\n",
              "</style>\n",
              "<table border=\"1\" class=\"dataframe\">\n",
              "  <thead>\n",
              "    <tr style=\"text-align: right;\">\n",
              "      <th></th>\n",
              "      <th>fire_year</th>\n",
              "      <th>fire_number</th>\n",
              "      <th>fire_name</th>\n",
              "      <th>current_size</th>\n",
              "      <th>size_class</th>\n",
              "      <th>fire_location_latitude</th>\n",
              "      <th>fire_location_longitude</th>\n",
              "      <th>fire_origin</th>\n",
              "      <th>general_cause_desc</th>\n",
              "      <th>industry_identifier_desc</th>\n",
              "      <th>...</th>\n",
              "      <th>distance_from_water_source</th>\n",
              "      <th>first_bucket_drop_date</th>\n",
              "      <th>bh_fs_date</th>\n",
              "      <th>bh_hectares</th>\n",
              "      <th>uc_fs_date</th>\n",
              "      <th>uc_hectares</th>\n",
              "      <th>to_fs_date</th>\n",
              "      <th>to_hectares</th>\n",
              "      <th>ex_fs_date</th>\n",
              "      <th>ex_hectares</th>\n",
              "    </tr>\n",
              "  </thead>\n",
              "  <tbody>\n",
              "    <tr>\n",
              "      <th>0</th>\n",
              "      <td>2021</td>\n",
              "      <td>HWF053</td>\n",
              "      <td>NaN</td>\n",
              "      <td>5.50</td>\n",
              "      <td>C</td>\n",
              "      <td>59.522139</td>\n",
              "      <td>-119.926971</td>\n",
              "      <td>Provincial Land</td>\n",
              "      <td>Lightning</td>\n",
              "      <td>NaN</td>\n",
              "      <td>...</td>\n",
              "      <td>NaN</td>\n",
              "      <td>NaN</td>\n",
              "      <td>6/28/21 22:26</td>\n",
              "      <td>0.01</td>\n",
              "      <td>7/1/21 13:26</td>\n",
              "      <td>10.00</td>\n",
              "      <td>NaN</td>\n",
              "      <td>NaN</td>\n",
              "      <td>7/1/21 13:44</td>\n",
              "      <td>5.50</td>\n",
              "    </tr>\n",
              "    <tr>\n",
              "      <th>1</th>\n",
              "      <td>2021</td>\n",
              "      <td>RWF005</td>\n",
              "      <td>NaN</td>\n",
              "      <td>0.01</td>\n",
              "      <td>A</td>\n",
              "      <td>52.692262</td>\n",
              "      <td>-116.118960</td>\n",
              "      <td>Provincial Land</td>\n",
              "      <td>Forest Industry</td>\n",
              "      <td>NaN</td>\n",
              "      <td>...</td>\n",
              "      <td>NaN</td>\n",
              "      <td>NaN</td>\n",
              "      <td>3/30/21 14:30</td>\n",
              "      <td>0.01</td>\n",
              "      <td>3/30/21 14:30</td>\n",
              "      <td>0.01</td>\n",
              "      <td>3/30/21 14:35</td>\n",
              "      <td>0.01</td>\n",
              "      <td>4/9/21 8:30</td>\n",
              "      <td>0.01</td>\n",
              "    </tr>\n",
              "    <tr>\n",
              "      <th>2</th>\n",
              "      <td>2021</td>\n",
              "      <td>LWF014</td>\n",
              "      <td>NaN</td>\n",
              "      <td>0.10</td>\n",
              "      <td>A</td>\n",
              "      <td>55.937050</td>\n",
              "      <td>-110.719950</td>\n",
              "      <td>Indian Reservation</td>\n",
              "      <td>Incendiary</td>\n",
              "      <td>NaN</td>\n",
              "      <td>...</td>\n",
              "      <td>NaN</td>\n",
              "      <td>NaN</td>\n",
              "      <td>4/16/21 16:57</td>\n",
              "      <td>0.10</td>\n",
              "      <td>4/16/21 16:57</td>\n",
              "      <td>0.10</td>\n",
              "      <td>NaN</td>\n",
              "      <td>NaN</td>\n",
              "      <td>4/17/21 14:15</td>\n",
              "      <td>0.10</td>\n",
              "    </tr>\n",
              "    <tr>\n",
              "      <th>3</th>\n",
              "      <td>2021</td>\n",
              "      <td>MWF002</td>\n",
              "      <td>NaN</td>\n",
              "      <td>0.01</td>\n",
              "      <td>A</td>\n",
              "      <td>56.425933</td>\n",
              "      <td>-111.160750</td>\n",
              "      <td>Indian Reservation</td>\n",
              "      <td>Resident</td>\n",
              "      <td>NaN</td>\n",
              "      <td>...</td>\n",
              "      <td>NaN</td>\n",
              "      <td>NaN</td>\n",
              "      <td>4/17/21 15:20</td>\n",
              "      <td>0.01</td>\n",
              "      <td>4/17/21 15:20</td>\n",
              "      <td>0.01</td>\n",
              "      <td>NaN</td>\n",
              "      <td>NaN</td>\n",
              "      <td>4/17/21 15:24</td>\n",
              "      <td>0.01</td>\n",
              "    </tr>\n",
              "    <tr>\n",
              "      <th>4</th>\n",
              "      <td>2021</td>\n",
              "      <td>EWF014</td>\n",
              "      <td>NaN</td>\n",
              "      <td>7.13</td>\n",
              "      <td>C</td>\n",
              "      <td>53.693450</td>\n",
              "      <td>-116.058633</td>\n",
              "      <td>Private Land</td>\n",
              "      <td>Resident</td>\n",
              "      <td>NaN</td>\n",
              "      <td>...</td>\n",
              "      <td>NaN</td>\n",
              "      <td>NaN</td>\n",
              "      <td>4/1/21 19:10</td>\n",
              "      <td>7.13</td>\n",
              "      <td>4/2/21 11:00</td>\n",
              "      <td>7.13</td>\n",
              "      <td>4/2/21 15:52</td>\n",
              "      <td>7.13</td>\n",
              "      <td>4/12/21 14:30</td>\n",
              "      <td>7.13</td>\n",
              "    </tr>\n",
              "  </tbody>\n",
              "</table>\n",
              "<p>5 rows × 50 columns</p>\n",
              "</div>\n",
              "    <div class=\"colab-df-buttons\">\n",
              "\n",
              "  <div class=\"colab-df-container\">\n",
              "    <button class=\"colab-df-convert\" onclick=\"convertToInteractive('df-a3781a40-edc9-4656-b23f-82b4edfa6357')\"\n",
              "            title=\"Convert this dataframe to an interactive table.\"\n",
              "            style=\"display:none;\">\n",
              "\n",
              "  <svg xmlns=\"http://www.w3.org/2000/svg\" height=\"24px\" viewBox=\"0 -960 960 960\">\n",
              "    <path d=\"M120-120v-720h720v720H120Zm60-500h600v-160H180v160Zm220 220h160v-160H400v160Zm0 220h160v-160H400v160ZM180-400h160v-160H180v160Zm440 0h160v-160H620v160ZM180-180h160v-160H180v160Zm440 0h160v-160H620v160Z\"/>\n",
              "  </svg>\n",
              "    </button>\n",
              "\n",
              "  <style>\n",
              "    .colab-df-container {\n",
              "      display:flex;\n",
              "      gap: 12px;\n",
              "    }\n",
              "\n",
              "    .colab-df-convert {\n",
              "      background-color: #E8F0FE;\n",
              "      border: none;\n",
              "      border-radius: 50%;\n",
              "      cursor: pointer;\n",
              "      display: none;\n",
              "      fill: #1967D2;\n",
              "      height: 32px;\n",
              "      padding: 0 0 0 0;\n",
              "      width: 32px;\n",
              "    }\n",
              "\n",
              "    .colab-df-convert:hover {\n",
              "      background-color: #E2EBFA;\n",
              "      box-shadow: 0px 1px 2px rgba(60, 64, 67, 0.3), 0px 1px 3px 1px rgba(60, 64, 67, 0.15);\n",
              "      fill: #174EA6;\n",
              "    }\n",
              "\n",
              "    .colab-df-buttons div {\n",
              "      margin-bottom: 4px;\n",
              "    }\n",
              "\n",
              "    [theme=dark] .colab-df-convert {\n",
              "      background-color: #3B4455;\n",
              "      fill: #D2E3FC;\n",
              "    }\n",
              "\n",
              "    [theme=dark] .colab-df-convert:hover {\n",
              "      background-color: #434B5C;\n",
              "      box-shadow: 0px 1px 3px 1px rgba(0, 0, 0, 0.15);\n",
              "      filter: drop-shadow(0px 1px 2px rgba(0, 0, 0, 0.3));\n",
              "      fill: #FFFFFF;\n",
              "    }\n",
              "  </style>\n",
              "\n",
              "    <script>\n",
              "      const buttonEl =\n",
              "        document.querySelector('#df-a3781a40-edc9-4656-b23f-82b4edfa6357 button.colab-df-convert');\n",
              "      buttonEl.style.display =\n",
              "        google.colab.kernel.accessAllowed ? 'block' : 'none';\n",
              "\n",
              "      async function convertToInteractive(key) {\n",
              "        const element = document.querySelector('#df-a3781a40-edc9-4656-b23f-82b4edfa6357');\n",
              "        const dataTable =\n",
              "          await google.colab.kernel.invokeFunction('convertToInteractive',\n",
              "                                                    [key], {});\n",
              "        if (!dataTable) return;\n",
              "\n",
              "        const docLinkHtml = 'Like what you see? Visit the ' +\n",
              "          '<a target=\"_blank\" href=https://colab.research.google.com/notebooks/data_table.ipynb>data table notebook</a>'\n",
              "          + ' to learn more about interactive tables.';\n",
              "        element.innerHTML = '';\n",
              "        dataTable['output_type'] = 'display_data';\n",
              "        await google.colab.output.renderOutput(dataTable, element);\n",
              "        const docLink = document.createElement('div');\n",
              "        docLink.innerHTML = docLinkHtml;\n",
              "        element.appendChild(docLink);\n",
              "      }\n",
              "    </script>\n",
              "  </div>\n",
              "\n",
              "\n",
              "<div id=\"df-1be25e3a-7bf4-4725-a11c-eb3b165d0331\">\n",
              "  <button class=\"colab-df-quickchart\" onclick=\"quickchart('df-1be25e3a-7bf4-4725-a11c-eb3b165d0331')\"\n",
              "            title=\"Suggest charts\"\n",
              "            style=\"display:none;\">\n",
              "\n",
              "<svg xmlns=\"http://www.w3.org/2000/svg\" height=\"24px\"viewBox=\"0 0 24 24\"\n",
              "     width=\"24px\">\n",
              "    <g>\n",
              "        <path d=\"M19 3H5c-1.1 0-2 .9-2 2v14c0 1.1.9 2 2 2h14c1.1 0 2-.9 2-2V5c0-1.1-.9-2-2-2zM9 17H7v-7h2v7zm4 0h-2V7h2v10zm4 0h-2v-4h2v4z\"/>\n",
              "    </g>\n",
              "</svg>\n",
              "  </button>\n",
              "\n",
              "<style>\n",
              "  .colab-df-quickchart {\n",
              "      --bg-color: #E8F0FE;\n",
              "      --fill-color: #1967D2;\n",
              "      --hover-bg-color: #E2EBFA;\n",
              "      --hover-fill-color: #174EA6;\n",
              "      --disabled-fill-color: #AAA;\n",
              "      --disabled-bg-color: #DDD;\n",
              "  }\n",
              "\n",
              "  [theme=dark] .colab-df-quickchart {\n",
              "      --bg-color: #3B4455;\n",
              "      --fill-color: #D2E3FC;\n",
              "      --hover-bg-color: #434B5C;\n",
              "      --hover-fill-color: #FFFFFF;\n",
              "      --disabled-bg-color: #3B4455;\n",
              "      --disabled-fill-color: #666;\n",
              "  }\n",
              "\n",
              "  .colab-df-quickchart {\n",
              "    background-color: var(--bg-color);\n",
              "    border: none;\n",
              "    border-radius: 50%;\n",
              "    cursor: pointer;\n",
              "    display: none;\n",
              "    fill: var(--fill-color);\n",
              "    height: 32px;\n",
              "    padding: 0;\n",
              "    width: 32px;\n",
              "  }\n",
              "\n",
              "  .colab-df-quickchart:hover {\n",
              "    background-color: var(--hover-bg-color);\n",
              "    box-shadow: 0 1px 2px rgba(60, 64, 67, 0.3), 0 1px 3px 1px rgba(60, 64, 67, 0.15);\n",
              "    fill: var(--button-hover-fill-color);\n",
              "  }\n",
              "\n",
              "  .colab-df-quickchart-complete:disabled,\n",
              "  .colab-df-quickchart-complete:disabled:hover {\n",
              "    background-color: var(--disabled-bg-color);\n",
              "    fill: var(--disabled-fill-color);\n",
              "    box-shadow: none;\n",
              "  }\n",
              "\n",
              "  .colab-df-spinner {\n",
              "    border: 2px solid var(--fill-color);\n",
              "    border-color: transparent;\n",
              "    border-bottom-color: var(--fill-color);\n",
              "    animation:\n",
              "      spin 1s steps(1) infinite;\n",
              "  }\n",
              "\n",
              "  @keyframes spin {\n",
              "    0% {\n",
              "      border-color: transparent;\n",
              "      border-bottom-color: var(--fill-color);\n",
              "      border-left-color: var(--fill-color);\n",
              "    }\n",
              "    20% {\n",
              "      border-color: transparent;\n",
              "      border-left-color: var(--fill-color);\n",
              "      border-top-color: var(--fill-color);\n",
              "    }\n",
              "    30% {\n",
              "      border-color: transparent;\n",
              "      border-left-color: var(--fill-color);\n",
              "      border-top-color: var(--fill-color);\n",
              "      border-right-color: var(--fill-color);\n",
              "    }\n",
              "    40% {\n",
              "      border-color: transparent;\n",
              "      border-right-color: var(--fill-color);\n",
              "      border-top-color: var(--fill-color);\n",
              "    }\n",
              "    60% {\n",
              "      border-color: transparent;\n",
              "      border-right-color: var(--fill-color);\n",
              "    }\n",
              "    80% {\n",
              "      border-color: transparent;\n",
              "      border-right-color: var(--fill-color);\n",
              "      border-bottom-color: var(--fill-color);\n",
              "    }\n",
              "    90% {\n",
              "      border-color: transparent;\n",
              "      border-bottom-color: var(--fill-color);\n",
              "    }\n",
              "  }\n",
              "</style>\n",
              "\n",
              "  <script>\n",
              "    async function quickchart(key) {\n",
              "      const quickchartButtonEl =\n",
              "        document.querySelector('#' + key + ' button');\n",
              "      quickchartButtonEl.disabled = true;  // To prevent multiple clicks.\n",
              "      quickchartButtonEl.classList.add('colab-df-spinner');\n",
              "      try {\n",
              "        const charts = await google.colab.kernel.invokeFunction(\n",
              "            'suggestCharts', [key], {});\n",
              "      } catch (error) {\n",
              "        console.error('Error during call to suggestCharts:', error);\n",
              "      }\n",
              "      quickchartButtonEl.classList.remove('colab-df-spinner');\n",
              "      quickchartButtonEl.classList.add('colab-df-quickchart-complete');\n",
              "    }\n",
              "    (() => {\n",
              "      let quickchartButtonEl =\n",
              "        document.querySelector('#df-1be25e3a-7bf4-4725-a11c-eb3b165d0331 button');\n",
              "      quickchartButtonEl.style.display =\n",
              "        google.colab.kernel.accessAllowed ? 'block' : 'none';\n",
              "    })();\n",
              "  </script>\n",
              "</div>\n",
              "\n",
              "    </div>\n",
              "  </div>\n"
            ],
            "text/plain": [
              "   fire_year fire_number fire_name  current_size size_class  \\\n",
              "0       2021      HWF053       NaN          5.50          C   \n",
              "1       2021      RWF005       NaN          0.01          A   \n",
              "2       2021      LWF014       NaN          0.10          A   \n",
              "3       2021      MWF002       NaN          0.01          A   \n",
              "4       2021      EWF014       NaN          7.13          C   \n",
              "\n",
              "   fire_location_latitude  fire_location_longitude         fire_origin  \\\n",
              "0               59.522139              -119.926971     Provincial Land   \n",
              "1               52.692262              -116.118960     Provincial Land   \n",
              "2               55.937050              -110.719950  Indian Reservation   \n",
              "3               56.425933              -111.160750  Indian Reservation   \n",
              "4               53.693450              -116.058633        Private Land   \n",
              "\n",
              "  general_cause_desc industry_identifier_desc  ... distance_from_water_source  \\\n",
              "0          Lightning                      NaN  ...                        NaN   \n",
              "1    Forest Industry                      NaN  ...                        NaN   \n",
              "2         Incendiary                      NaN  ...                        NaN   \n",
              "3           Resident                      NaN  ...                        NaN   \n",
              "4           Resident                      NaN  ...                        NaN   \n",
              "\n",
              "  first_bucket_drop_date     bh_fs_date bh_hectares     uc_fs_date  \\\n",
              "0                    NaN  6/28/21 22:26        0.01   7/1/21 13:26   \n",
              "1                    NaN  3/30/21 14:30        0.01  3/30/21 14:30   \n",
              "2                    NaN  4/16/21 16:57        0.10  4/16/21 16:57   \n",
              "3                    NaN  4/17/21 15:20        0.01  4/17/21 15:20   \n",
              "4                    NaN   4/1/21 19:10        7.13   4/2/21 11:00   \n",
              "\n",
              "  uc_hectares     to_fs_date  to_hectares     ex_fs_date ex_hectares  \n",
              "0       10.00            NaN          NaN   7/1/21 13:44        5.50  \n",
              "1        0.01  3/30/21 14:35         0.01    4/9/21 8:30        0.01  \n",
              "2        0.10            NaN          NaN  4/17/21 14:15        0.10  \n",
              "3        0.01            NaN          NaN  4/17/21 15:24        0.01  \n",
              "4        7.13   4/2/21 15:52         7.13  4/12/21 14:30        7.13  \n",
              "\n",
              "[5 rows x 50 columns]"
            ]
          },
          "execution_count": 3,
          "metadata": {},
          "output_type": "execute_result"
        }
      ],
      "source": [
        "df.head()"
      ]
    },
    {
      "cell_type": "code",
      "execution_count": 4,
      "metadata": {
        "id": "KtkGJKctnUPp"
      },
      "outputs": [],
      "source": [
        "categorical_columns = ['fire_origin', 'general_cause_desc',\n",
        "       'industry_identifier_desc', 'responsible_group_desc', 'activity_class',\n",
        "       'true_cause', 'det_agent', 'det_agent_type', 'dispatched_resource', 'assessment_resource',\n",
        "      'fire_type', 'fire_position_on_slope',\n",
        "       'weather_conditions_over_fire', 'wind_direction', 'fuel_type',\n",
        "       'initial_action_by', 'ia_access', 'bucketing_on_fire', 'fire_forest_area','fire_start_part_of_day']"
      ]
    },
    {
      "cell_type": "markdown",
      "metadata": {
        "id": "tLEWr-Pl7KNj"
      },
      "source": [
        "# Building a Data Processing Pipeline"
      ]
    },
    {
      "cell_type": "markdown",
      "metadata": {
        "id": "-YFVavKz7EVl"
      },
      "source": [
        "## Processing Numerical Values\n",
        "This section will involve imputing missing values for numerical features a well as normalizing values to give equal weight to all our features."
      ]
    },
    {
      "cell_type": "code",
      "execution_count": 5,
      "metadata": {
        "id": "F8k8-0Tfokyq"
      },
      "outputs": [],
      "source": [
        "class NumImputer(BaseEstimator, TransformerMixin):\n",
        "\n",
        "  def fit(self, X, y=None):\n",
        "    return self\n",
        "\n",
        "  def transform(self, X):\n",
        "    result = X.copy()\n",
        "    numerical_columns = X.select_dtypes(include=['int64', 'float64']).columns.drop(\n",
        "        ['distance_from_water_source', 'fire_year', 'fire_location_latitude', 'fire_location_longitude']\n",
        "      )\n",
        "    print(numerical_columns)\n",
        "    for col in numerical_columns:\n",
        "      imputer = SimpleImputer(strategy='median')\n",
        "      result[col] = imputer.fit_transform(X[[col]])\n",
        "\n",
        "    return result\n",
        "\n",
        "class NumStandardizer(BaseEstimator, TransformerMixin):\n",
        "\n",
        "  def fit(self, X, y=None):\n",
        "    return self\n",
        "\n",
        "  def transform(self, X):\n",
        "    numerical_columns = X.select_dtypes(include=['int64', 'float64']).columns\n",
        "    numerical_columns = numerical_columns.drop(\n",
        "        ['distance_from_water_source', 'fire_year', 'fire_location_latitude', 'fire_location_longitude']\n",
        "      )\n",
        "    for col in numerical_columns:\n",
        "      mean = df[col].mean()\n",
        "      std = df[col].std()\n",
        "      normalize_fn = lambda x: (x-mean)/std\n",
        "      X[col] = X[col].apply(normalize_fn)\n",
        "    return X\n",
        "\n",
        "numerical_transformer = Pipeline(steps=[\n",
        "    ('imputer', NumImputer()),\n",
        "    ('scaler', NumStandardizer())\n",
        "])"
      ]
    },
    {
      "cell_type": "markdown",
      "metadata": {
        "id": "v2U53F-U7fKb"
      },
      "source": [
        "## fire_origin Processing\n",
        "Due to the fact that we're missing values in fire_origin, we can use K-Nearest Neighbours in order to find the closest coordinates and impute the missing fire_origin values."
      ]
    },
    {
      "cell_type": "code",
      "execution_count": 6,
      "metadata": {
        "id": "258bY26PcqKV"
      },
      "outputs": [],
      "source": [
        "\n",
        "class MissingValueImputer(BaseEstimator, TransformerMixin):\n",
        "\n",
        "    def fit(self, X, y=None):\n",
        "        return self\n",
        "\n",
        "    def transform(self, X):\n",
        "        missing_indices = X[X['fire_origin'].isna()].index\n",
        "        # Fit NearestNeighbors model with non-missing data\n",
        "        non_missing_indices = df[~df['fire_origin'].isna()].index\n",
        "        nn = NearestNeighbors(n_neighbors=1)\n",
        "        nn.fit(df.loc[non_missing_indices, ['fire_location_latitude', 'fire_location_longitude']])\n",
        "\n",
        "        if len(missing_indices) > 0 and len(non_missing_indices) > 0:\n",
        "            distances, indices = nn.kneighbors(X.loc[missing_indices, ['fire_location_latitude', 'fire_location_longitude']])\n",
        "            X.loc[missing_indices, 'fire_origin'] = df.iloc[non_missing_indices].iloc[indices.flatten()]['fire_origin'].values\n",
        "\n",
        "        return X\n",
        "\n",
        "# Define the pipeline\n",
        "origin_transformer = Pipeline([\n",
        "    ('missing_value_imputer', MissingValueImputer()),\n",
        "])\n"
      ]
    },
    {
      "cell_type": "markdown",
      "metadata": {
        "id": "UD1rQFTN7xmQ"
      },
      "source": [
        "## forest_area\n",
        "This section will simply involve converting the fire_number feature into their respective forest_area. This will give more information about the location of the fire."
      ]
    },
    {
      "cell_type": "code",
      "execution_count": 7,
      "metadata": {
        "id": "aQVFJErcpM_k"
      },
      "outputs": [],
      "source": [
        "class ForestAreaTransformer(BaseEstimator, TransformerMixin):\n",
        "    def __init__(self):\n",
        "        self.forest_area = {\n",
        "            'C': 'Calgary',\n",
        "            'E': 'Edson',\n",
        "            'H': 'High Level',\n",
        "            'G': 'Grande Prairie',\n",
        "            'L': 'Lac La Biche',\n",
        "            'M': 'Fort McMurray',\n",
        "            'P': 'Peace River',\n",
        "            'R': 'Rocky',\n",
        "            'S': 'Slave Lake',\n",
        "            'W': 'Whitecourt'\n",
        "        }\n",
        "\n",
        "    def fit(self, X, y=None):\n",
        "        return self\n",
        "\n",
        "    def transform(self, X):\n",
        "        X['fire_forest_area'] = X['fire_number'].apply(lambda x: self.forest_area.get(x[0]))\n",
        "        return X.drop(['fire_number'], axis=1)\n",
        "\n",
        "# Define your pipeline\n",
        "forest_area_transformer = Pipeline([\n",
        "    ('forest_area_transformer', ForestAreaTransformer())\n",
        "])"
      ]
    },
    {
      "cell_type": "markdown",
      "metadata": {
        "id": "bBVHjeyy8BOe"
      },
      "source": [
        "## Processing Categorical Values\n",
        "This section will involve imputing missing values as well as One-Hot encoding categorical values."
      ]
    },
    {
      "cell_type": "code",
      "execution_count": 8,
      "metadata": {
        "id": "l3bqZioWQbI_"
      },
      "outputs": [],
      "source": [
        "class CatImputer(BaseEstimator, TransformerMixin):\n",
        "  def fit(self, X, y=None):\n",
        "    return self\n",
        "\n",
        "  def transform(self, X):\n",
        "    result = X.copy()\n",
        "    for col in categorical_columns:\n",
        "      result[col] = X[col].fillna('none')\n",
        "    return result\n",
        "\n",
        "class CatEncoder(BaseEstimator, TransformerMixin):\n",
        "  def fit(self, X, y=None):\n",
        "    return self\n",
        "\n",
        "  def transform(self, X):\n",
        "    for col in categorical_columns:\n",
        "      one_hot_encoded_df = pd.get_dummies(X[col], prefix=f'{col}')\n",
        "      X = pd.concat([X, one_hot_encoded_df], axis=1)\n",
        "      X = X.drop([col], axis=1)\n",
        "    return X\n",
        "\n",
        "categorical_transformer = Pipeline(steps=[\n",
        "    ('imputer', CatImputer()),\n",
        "    ('onehot', CatEncoder())\n",
        "])"
      ]
    },
    {
      "cell_type": "markdown",
      "metadata": {
        "id": "T15wm7s68Lqa"
      },
      "source": [
        "## size_class\n",
        "The size_class will be the feature we are trying to predict in this model. We will us Ordinal encoding for categories."
      ]
    },
    {
      "cell_type": "code",
      "execution_count": 9,
      "metadata": {
        "id": "HHvv4Wz9QbI_"
      },
      "outputs": [],
      "source": [
        "class SizeClassEncoder(BaseEstimator, TransformerMixin):\n",
        "\n",
        "  def fit(self, X, y=None):\n",
        "    return self\n",
        "\n",
        "  def transform(self, X):\n",
        "    enc = OrdinalEncoder(categories=[['A', 'B', 'C', 'D', 'E']])\n",
        "    X['size_class'] = enc.fit_transform(df[['size_class']]).astype(int)\n",
        "    return X\n",
        "\n",
        "\n",
        "size_class_transformer = Pipeline(steps=[\n",
        "    ('ordinal_encoder', SizeClassEncoder())\n",
        "])"
      ]
    },
    {
      "cell_type": "markdown",
      "metadata": {
        "id": "Y_i7cdcX8WNJ"
      },
      "source": [
        "## Time\n",
        "This section will convert date and time into relative time differences which are much more useful features to use in a model."
      ]
    },
    {
      "cell_type": "code",
      "execution_count": 60,
      "metadata": {
        "id": "t5EFdeu1QbI_"
      },
      "outputs": [],
      "source": [
        "class TimeFormat(BaseEstimator, TransformerMixin):\n",
        "    def fit(self, X, y=None):\n",
        "        return self\n",
        "\n",
        "    def transform(self, X):\n",
        "        X['fire_start_date'] = X['fire_start_date'].fillna(method='bfill')\n",
        "        X['fire_start_date'] = X['fire_start_date'].fillna(method='ffill')\n",
        "\n",
        "        date_features = ['fire_start_date', 'discovered_date', 'reported_date', 'dispatch_date','start_for_fire_date', 'assessment_datetime', 'ia_arrival_at_fire_date', 'fire_fighting_start_date', 'first_bucket_drop_date', 'ex_fs_date']\n",
        "\n",
        "        for feature in date_features:\n",
        "            date_format = \"%m/%d/%y %H:%M\"\n",
        "            X[feature] = pd.to_datetime(X[feature], format=date_format, errors='coerce')\n",
        "\n",
        "        def generate_time_features(X):\n",
        "\n",
        "            def timedelta_to_minutes(td):\n",
        "                return td.total_seconds() / 60 if pd.notna(td) else np.nan\n",
        "\n",
        "\n",
        "            def compute_time_difference(start, end):\n",
        "                if pd.isna(start) or pd.isna(end):\n",
        "                    return np.nan\n",
        "                return timedelta_to_minutes(end - start)\n",
        "            X['time_to_discovery'] = X.apply(lambda row: compute_time_difference(row['fire_start_date'], row['discovered_date']), axis=1)\n",
        "            X['time_to_report'] = X.apply(lambda row: compute_time_difference(row['fire_start_date'], row['reported_date']), axis=1)\n",
        "            X['time_to_dispatch'] = X.apply(lambda row: compute_time_difference(row['fire_start_date'], row['dispatch_date']), axis=1)\n",
        "            X['time_to_start_for_fire'] = X.apply(lambda row: compute_time_difference(row['fire_start_date'], row['start_for_fire_date']), axis=1)\n",
        "            X['time_to_assessment'] = X.apply(lambda row: compute_time_difference(row['fire_start_date'], row['assessment_datetime']), axis=1)\n",
        "            X['time_to_ia_arrival'] = X.apply(lambda row: compute_time_difference(row['fire_start_date'], row['ia_arrival_at_fire_date']), axis=1)\n",
        "            X['time_to_start_fighting'] = X.apply(lambda row: compute_time_difference(row['fire_start_date'], row['fire_fighting_start_date']), axis=1)\n",
        "            return X.drop(['ex_fs_date', 'bh_fs_date', 'uc_fs_date', 'to_fs_date', 'discovered_date',\n",
        "                           'reported_date', 'dispatch_date', 'start_for_fire_date', 'assessment_datetime', 'ia_arrival_at_fire_date',\n",
        "                           'fire_fighting_start_date', 'first_bucket_drop_date'], axis=1)\n",
        "\n",
        "        X = generate_time_features(X)\n",
        "\n",
        "        # List of columns for which missing values should be imputed with the median\n",
        "        columns_to_impute = ['time_to_discovery', 'time_to_report', 'time_to_dispatch',\n",
        "                            'time_to_start_for_fire', 'time_to_assessment', 'time_to_ia_arrival',\n",
        "                            'time_to_start_fighting']\n",
        "\n",
        "        # Impute missing values with the median for specified columns\n",
        "        X[columns_to_impute] = X[columns_to_impute].fillna(X[columns_to_impute].median())\n",
        "        return X\n",
        "\n",
        "class TimeNormalizer(BaseEstimator, TransformerMixin):\n",
        "  def fit(self, X, y=None):\n",
        "    return self\n",
        "  def transform(self, X):\n",
        "    columns = ['time_to_discovery', 'time_to_report', 'time_to_dispatch',\n",
        "                            'time_to_start_for_fire', 'time_to_assessment', 'time_to_ia_arrival',\n",
        "                            'time_to_start_fighting']\n",
        "    for col in columns:\n",
        "      mean = X[col].mean()\n",
        "      std = X[col].std()\n",
        "      normalize_fn = lambda x: (x-mean)/std\n",
        "      X[col] = X[col].apply(normalize_fn)\n",
        "    return X\n",
        "\n",
        "time_transformer = Pipeline(steps=[\n",
        "    ('time_format', TimeFormat()),\n",
        "    ('normalize', TimeNormalizer())\n",
        "])\n"
      ]
    },
    {
      "cell_type": "markdown",
      "metadata": {
        "id": "9U-g3mFU8mcb"
      },
      "source": [
        "## Date\n",
        "This section will simply convert dates into the time in the month, week, and day."
      ]
    },
    {
      "cell_type": "code",
      "execution_count": 11,
      "metadata": {
        "id": "gc2w3qJO0_aj"
      },
      "outputs": [],
      "source": [
        "class DateEncoder(BaseEstimator, TransformerMixin):\n",
        "  def fit(self, X, y=None):\n",
        "    return self\n",
        "  def transform(self, X):\n",
        "    date_format = \"%m/%d/%y %H:%M\"\n",
        "    X['fire_start_date'] = X['fire_start_date'].fillna(method='bfill')\n",
        "    X['fire_start_date'] = X['fire_start_date'].fillna(method='ffill')\n",
        "    X['fire_start_date'] = pd.to_datetime(X['fire_start_date'], format=date_format)\n",
        "    X['fire_start_month'] = X['fire_start_date'].dt.month\n",
        "    X['fire_start_weekday'] = X['fire_start_date'].dt.weekday\n",
        "    def part_of_day(hour):\n",
        "      if 5 <= hour < 12:\n",
        "          return 'Morning'\n",
        "      elif 12 <= hour < 17:\n",
        "          return 'Afternoon'\n",
        "      elif 17 <= hour < 21:\n",
        "          return 'Evening'\n",
        "      else:\n",
        "          return 'Night'\n",
        "    X['fire_start_part_of_day'] = X['fire_start_date'].dt.hour.apply(part_of_day)\n",
        "    return X.drop(['fire_start_date'], axis=1)\n",
        "\n",
        "date_transformer = Pipeline(steps=[\n",
        "    ('date', DateEncoder())\n",
        "])\n"
      ]
    },
    {
      "cell_type": "code",
      "execution_count": 12,
      "metadata": {
        "id": "xmW5rhPCR73i"
      },
      "outputs": [],
      "source": [
        "class SourceImputer(BaseEstimator, TransformerMixin):\n",
        "  def fit(self, X, y=None):\n",
        "    return self\n",
        "\n",
        "  def transform(self, X):\n",
        "    X['distance_from_water_source'] = X['distance_from_water_source'].fillna(1e9)\n",
        "    return X\n",
        "\n",
        "class Sigmoid(BaseEstimator, TransformerMixin):\n",
        "\n",
        "  def fit(self, X, y=None):\n",
        "    return self\n",
        "\n",
        "  def transform(self, X):\n",
        "    def sigmoid(x):\n",
        "      return 1 / (1 + np.exp(-x))\n",
        "    X['distance_from_water_source'] = X['distance_from_water_source'].apply(sigmoid)\n",
        "    return X\n",
        "\n",
        "water_source_transformer = Pipeline(steps=[\n",
        "    ('source_impute', SourceImputer()),\n",
        "    ('sigmoid', Sigmoid())\n",
        "])"
      ]
    },
    {
      "cell_type": "code",
      "execution_count": 13,
      "metadata": {
        "id": "GIh7a9bQQbI_"
      },
      "outputs": [],
      "source": [
        "df = df.drop(['discovered_size', 'bh_hectares', 'uc_hectares', 'ex_hectares', 'fire_name'], axis=1)"
      ]
    },
    {
      "cell_type": "code",
      "execution_count": 14,
      "metadata": {
        "colab": {
          "base_uri": "https://localhost:8080/"
        },
        "id": "44axQ7LIggJ1",
        "outputId": "0e58501e-a5d7-41ea-b798-6cede868a244"
      },
      "outputs": [
        {
          "name": "stdout",
          "output_type": "stream",
          "text": [
            "Index(['current_size', 'assessment_hectares', 'fire_spread_rate',\n",
            "       'temperature', 'relative_humidity', 'wind_speed',\n",
            "       'fire_fighting_start_size', 'to_hectares'],\n",
            "      dtype='object')\n"
          ]
        }
      ],
      "source": [
        "numerical_columns = df.select_dtypes(include=['int64', 'float64']).columns.drop(\n",
        "    ['distance_from_water_source', 'fire_year', 'fire_location_latitude', 'fire_location_longitude']\n",
        "  )\n",
        "\n",
        "preprocessor = Pipeline(steps=[\n",
        "    ('origin', origin_transformer),\n",
        "    ('num', numerical_transformer),\n",
        "    ('forest_area', forest_area_transformer),\n",
        "    ('size_class', size_class_transformer),\n",
        "    ('time', time_transformer),\n",
        "    ('date', date_transformer),\n",
        "    ('water_source', water_source_transformer),\n",
        "    ('cat', categorical_transformer)\n",
        "])\n",
        "\n",
        "pipeline = Pipeline(steps=[\n",
        "    ('preprocessor', preprocessor)\n",
        "])\n",
        "\n",
        "X = pipeline.fit_transform(df)\n",
        "X = X.drop(['current_size'], axis=1)\n",
        "y = X.pop('size_class')"
      ]
    },
    {
      "cell_type": "code",
      "execution_count": 15,
      "metadata": {
        "colab": {
          "base_uri": "https://localhost:8080/"
        },
        "id": "BxrEfp_sQbJA",
        "outputId": "24318027-5f88-4377-9d5d-124c1105456a"
      },
      "outputs": [
        {
          "name": "stdout",
          "output_type": "stream",
          "text": [
            "   fire_year  fire_location_latitude  fire_location_longitude  \\\n",
            "0       2021               59.522139              -119.926971   \n",
            "1       2021               52.692262              -116.118960   \n",
            "2       2021               55.937050              -110.719950   \n",
            "3       2021               56.425933              -111.160750   \n",
            "4       2021               53.693450              -116.058633   \n",
            "\n",
            "   assessment_hectares  fire_spread_rate  temperature  relative_humidity  \\\n",
            "0            -0.035660          0.827659     1.451208          -0.449592   \n",
            "1            -0.035660         -0.337889    -2.103627           0.244187   \n",
            "2            -0.034163         -0.143631    -0.246624          -1.410209   \n",
            "3            -0.035660         -0.337889    -1.440412           0.511025   \n",
            "4             0.047317          1.604691    -0.671082          -1.410209   \n",
            "\n",
            "   wind_speed  fire_fighting_start_size  distance_from_water_source  \\\n",
            "0    0.264532                  0.001719                         1.0   \n",
            "1    0.146276                 -0.048218                         1.0   \n",
            "2    0.737557                 -0.047489                         1.0   \n",
            "3    0.619301                 -0.048218                         1.0   \n",
            "4    2.156631                 -0.048218                         1.0   \n",
            "\n",
            "   to_hectares  time_to_discovery  time_to_report  time_to_dispatch  \\\n",
            "0    -0.139234           9.008918        8.725845          8.730284   \n",
            "1    -0.139234          -0.148922        0.658630          0.659351   \n",
            "2    -0.139234           0.682852        0.647039          0.647708   \n",
            "3    -0.139234          -0.148922        0.648963          0.649655   \n",
            "4     0.426319          -0.148922        0.174258          0.174713   \n",
            "\n",
            "   time_to_start_for_fire  time_to_assessment  time_to_ia_arrival  \\\n",
            "0                8.729875            8.725830            8.855608   \n",
            "1                0.659207            0.658491           -0.150130   \n",
            "2                0.647565            0.646881            0.667725   \n",
            "3                0.649525            0.648893           -0.150130   \n",
            "4                0.174609            0.174190           -0.150130   \n",
            "\n",
            "   time_to_start_fighting  fire_start_month  fire_start_weekday  \\\n",
            "0                8.820909                 6                   0   \n",
            "1               -0.151234                 3                   2   \n",
            "2                0.663347                 4                   3   \n",
            "3               -0.151234                 4                   3   \n",
            "4               -0.151234                11                   6   \n",
            "\n",
            "   fire_origin_DND  fire_origin_Indian Reservation  \\\n",
            "0            False                           False   \n",
            "1            False                           False   \n",
            "2            False                            True   \n",
            "3            False                            True   \n",
            "4            False                           False   \n",
            "\n",
            "   fire_origin_Metis Settlement  fire_origin_National Park  \\\n",
            "0                         False                      False   \n",
            "1                         False                      False   \n",
            "2                         False                      False   \n",
            "3                         False                      False   \n",
            "4                         False                      False   \n",
            "\n",
            "   fire_origin_Private Land  fire_origin_Provincial Land  \\\n",
            "0                     False                         True   \n",
            "1                     False                         True   \n",
            "2                     False                        False   \n",
            "3                     False                        False   \n",
            "4                      True                        False   \n",
            "\n",
            "   fire_origin_Provincial Park  general_cause_desc_Agriculture Industry  \\\n",
            "0                        False                                    False   \n",
            "1                        False                                    False   \n",
            "2                        False                                    False   \n",
            "3                        False                                    False   \n",
            "4                        False                                    False   \n",
            "\n",
            "   general_cause_desc_Forest Industry  general_cause_desc_Government  \\\n",
            "0                               False                          False   \n",
            "1                                True                          False   \n",
            "2                               False                          False   \n",
            "3                               False                          False   \n",
            "4                               False                          False   \n",
            "\n",
            "   general_cause_desc_Incendiary  general_cause_desc_Lightning  \\\n",
            "0                          False                          True   \n",
            "1                          False                         False   \n",
            "2                           True                         False   \n",
            "3                          False                         False   \n",
            "4                          False                         False   \n",
            "\n",
            "   general_cause_desc_Oil & Gas Industry  general_cause_desc_Other Industry  \\\n",
            "0                                  False                              False   \n",
            "1                                  False                              False   \n",
            "2                                  False                              False   \n",
            "3                                  False                              False   \n",
            "4                                  False                              False   \n",
            "\n",
            "   general_cause_desc_Power Line Industry  general_cause_desc_Prescribed Fire  \\\n",
            "0                                   False                               False   \n",
            "1                                   False                               False   \n",
            "2                                   False                               False   \n",
            "3                                   False                               False   \n",
            "4                                   False                               False   \n",
            "\n",
            "   general_cause_desc_Railroad  general_cause_desc_Recreation  \\\n",
            "0                        False                          False   \n",
            "1                        False                          False   \n",
            "2                        False                          False   \n",
            "3                        False                          False   \n",
            "4                        False                          False   \n",
            "\n",
            "   general_cause_desc_Resident  general_cause_desc_Restart  \\\n",
            "0                        False                       False   \n",
            "1                        False                       False   \n",
            "2                        False                       False   \n",
            "3                         True                       False   \n",
            "4                         True                       False   \n",
            "\n",
            "   general_cause_desc_Under Investigation  general_cause_desc_Undetermined  \\\n",
            "0                                   False                            False   \n",
            "1                                   False                            False   \n",
            "2                                   False                            False   \n",
            "3                                   False                            False   \n",
            "4                                   False                            False   \n",
            "\n",
            "   industry_identifier_desc_Comm. Fishery  \\\n",
            "0                                   False   \n",
            "1                                   False   \n",
            "2                                   False   \n",
            "3                                   False   \n",
            "4                                   False   \n",
            "\n",
            "   industry_identifier_desc_Comm. Tourism  \\\n",
            "0                                   False   \n",
            "1                                   False   \n",
            "2                                   False   \n",
            "3                                   False   \n",
            "4                                   False   \n",
            "\n",
            "   industry_identifier_desc_Comm. Transportation  \\\n",
            "0                                          False   \n",
            "1                                          False   \n",
            "2                                          False   \n",
            "3                                          False   \n",
            "4                                          False   \n",
            "\n",
            "   industry_identifier_desc_Commercial Outfitting  \\\n",
            "0                                           False   \n",
            "1                                           False   \n",
            "2                                           False   \n",
            "3                                           False   \n",
            "4                                           False   \n",
            "\n",
            "   industry_identifier_desc_Federal  industry_identifier_desc_Mining  \\\n",
            "0                             False                            False   \n",
            "1                             False                            False   \n",
            "2                             False                            False   \n",
            "3                             False                            False   \n",
            "4                             False                            False   \n",
            "\n",
            "   industry_identifier_desc_Municipal  industry_identifier_desc_Provincial  \\\n",
            "0                               False                                False   \n",
            "1                               False                                False   \n",
            "2                               False                                False   \n",
            "3                               False                                False   \n",
            "4                               False                                False   \n",
            "\n",
            "   industry_identifier_desc_Trapping  \\\n",
            "0                              False   \n",
            "1                              False   \n",
            "2                              False   \n",
            "3                              False   \n",
            "4                              False   \n",
            "\n",
            "   industry_identifier_desc_Utility (Water/Gas)  \\\n",
            "0                                         False   \n",
            "1                                         False   \n",
            "2                                         False   \n",
            "3                                         False   \n",
            "4                                         False   \n",
            "\n",
            "   industry_identifier_desc_Waste Disposal  industry_identifier_desc_none  \\\n",
            "0                                    False                           True   \n",
            "1                                    False                           True   \n",
            "2                                    False                           True   \n",
            "3                                    False                           True   \n",
            "4                                    False                           True   \n",
            "\n",
            "   responsible_group_desc_ATV Users  responsible_group_desc_Animal(s)  \\\n",
            "0                             False                             False   \n",
            "1                             False                             False   \n",
            "2                             False                             False   \n",
            "3                             False                             False   \n",
            "4                             False                             False   \n",
            "\n",
            "   responsible_group_desc_Berry Pickers  \\\n",
            "0                                 False   \n",
            "1                                 False   \n",
            "2                                 False   \n",
            "3                                 False   \n",
            "4                                 False   \n",
            "\n",
            "   responsible_group_desc_Bikers (non-powered)  \\\n",
            "0                                        False   \n",
            "1                                        False   \n",
            "2                                        False   \n",
            "3                                        False   \n",
            "4                                        False   \n",
            "\n",
            "   responsible_group_desc_Boat/canoe/kayak  responsible_group_desc_Campers  \\\n",
            "0                                    False                           False   \n",
            "1                                    False                           False   \n",
            "2                                    False                           False   \n",
            "3                                    False                           False   \n",
            "4                                    False                           False   \n",
            "\n",
            "   responsible_group_desc_Construction Workers  \\\n",
            "0                                        False   \n",
            "1                                        False   \n",
            "2                                        False   \n",
            "3                                        False   \n",
            "4                                        False   \n",
            "\n",
            "   responsible_group_desc_Contractors  \\\n",
            "0                               False   \n",
            "1                               False   \n",
            "2                               False   \n",
            "3                               False   \n",
            "4                               False   \n",
            "\n",
            "   responsible_group_desc_Contractors or Agents  \\\n",
            "0                                         False   \n",
            "1                                         False   \n",
            "2                                         False   \n",
            "3                                         False   \n",
            "4                                         False   \n",
            "\n",
            "   responsible_group_desc_Cover-up  responsible_group_desc_Dare  \\\n",
            "0                            False                        False   \n",
            "1                            False                        False   \n",
            "2                            False                        False   \n",
            "3                            False                        False   \n",
            "4                            False                        False   \n",
            "\n",
            "   responsible_group_desc_Employees  responsible_group_desc_Employment  \\\n",
            "0                             False                              False   \n",
            "1                             False                              False   \n",
            "2                             False                              False   \n",
            "3                             False                              False   \n",
            "4                             False                              False   \n",
            "\n",
            "   responsible_group_desc_Fishermen  responsible_group_desc_Grudge  \\\n",
            "0                             False                          False   \n",
            "1                             False                          False   \n",
            "2                             False                          False   \n",
            "3                             False                          False   \n",
            "4                             False                          False   \n",
            "\n",
            "   responsible_group_desc_Guides & Outfitters  responsible_group_desc_Hikers  \\\n",
            "0                                       False                          False   \n",
            "1                                       False                          False   \n",
            "2                                       False                          False   \n",
            "3                                       False                          False   \n",
            "4                                       False                          False   \n",
            "\n",
            "   responsible_group_desc_Horseback Riders  responsible_group_desc_Hunters  \\\n",
            "0                                    False                           False   \n",
            "1                                    False                           False   \n",
            "2                                    False                           False   \n",
            "3                                    False                           False   \n",
            "4                                    False                           False   \n",
            "\n",
            "   responsible_group_desc_Illness  responsible_group_desc_Maintenance/Service  \\\n",
            "0                           False                                       False   \n",
            "1                           False                                       False   \n",
            "2                           False                                       False   \n",
            "3                           False                                       False   \n",
            "4                           False                                       False   \n",
            "\n",
            "   responsible_group_desc_Mechanized Travel  \\\n",
            "0                                     False   \n",
            "1                                     False   \n",
            "2                                     False   \n",
            "3                                     False   \n",
            "4                                     False   \n",
            "\n",
            "   responsible_group_desc_Mushroom Pickers  \\\n",
            "0                                    False   \n",
            "1                                    False   \n",
            "2                                    False   \n",
            "3                                    False   \n",
            "4                                    False   \n",
            "\n",
            "   responsible_group_desc_Non-mechanized Travel  \\\n",
            "0                                         False   \n",
            "1                                         False   \n",
            "2                                         False   \n",
            "3                                         False   \n",
            "4                                         False   \n",
            "\n",
            "   responsible_group_desc_Operators  responsible_group_desc_Other Employees  \\\n",
            "0                             False                                   False   \n",
            "1                             False                                   False   \n",
            "2                             False                                   False   \n",
            "3                             False                                   False   \n",
            "4                             False                                   False   \n",
            "\n",
            "   responsible_group_desc_Others (explain in remarks)  \\\n",
            "0                                              False    \n",
            "1                                              False    \n",
            "2                                              False    \n",
            "3                                              False    \n",
            "4                                              False    \n",
            "\n",
            "   responsible_group_desc_Personal Gain  responsible_group_desc_Picnickers  \\\n",
            "0                                 False                              False   \n",
            "1                                 False                              False   \n",
            "2                                 False                              False   \n",
            "3                                 False                              False   \n",
            "4                                 False                              False   \n",
            "\n",
            "   responsible_group_desc_Resident  responsible_group_desc_Swimmers  \\\n",
            "0                            False                            False   \n",
            "1                            False                            False   \n",
            "2                            False                            False   \n",
            "3                            False                            False   \n",
            "4                            False                            False   \n",
            "\n",
            "   responsible_group_desc_Trappers  responsible_group_desc_none  \\\n",
            "0                            False                         True   \n",
            "1                            False                         True   \n",
            "2                            False                         True   \n",
            "3                            False                         True   \n",
            "4                            False                         True   \n",
            "\n",
            "   activity_class_Air Transportation  activity_class_All Terrain Vehicles  \\\n",
            "0                              False                                False   \n",
            "1                              False                                False   \n",
            "2                              False                                False   \n",
            "3                              False                                False   \n",
            "4                              False                                False   \n",
            "\n",
            "   activity_class_Ammunition  activity_class_Arson  activity_class_Brush  \\\n",
            "0                      False                 False                 False   \n",
            "1                      False                 False                 False   \n",
            "2                      False                  True                 False   \n",
            "3                      False                 False                 False   \n",
            "4                      False                 False                 False   \n",
            "\n",
            "   activity_class_Children  activity_class_Cooking  \\\n",
            "0                    False                   False   \n",
            "1                    False                   False   \n",
            "2                    False                   False   \n",
            "3                    False                   False   \n",
            "4                    False                   False   \n",
            "\n",
            "   activity_class_Cooking and Warming  activity_class_Debris Disposal  \\\n",
            "0                               False                           False   \n",
            "1                               False                            True   \n",
            "2                               False                           False   \n",
            "3                                True                           False   \n",
            "4                               False                            True   \n",
            "\n",
            "   activity_class_Flaring Gas  activity_class_Grass  \\\n",
            "0                       False                 False   \n",
            "1                       False                 False   \n",
            "2                       False                 False   \n",
            "3                       False                 False   \n",
            "4                       False                 False   \n",
            "\n",
            "   activity_class_Heavy Equipment  activity_class_Lighting Fires  \\\n",
            "0                           False                          False   \n",
            "1                           False                          False   \n",
            "2                           False                          False   \n",
            "3                           False                          False   \n",
            "4                           False                          False   \n",
            "\n",
            "   activity_class_OHV Operation  activity_class_Operations  \\\n",
            "0                         False                      False   \n",
            "1                         False                      False   \n",
            "2                         False                      False   \n",
            "3                         False                      False   \n",
            "4                         False                      False   \n",
            "\n",
            "   activity_class_Piles  activity_class_Pipelines  activity_class_Power Lines  \\\n",
            "0                 False                     False                       False   \n",
            "1                 False                     False                       False   \n",
            "2                 False                     False                       False   \n",
            "3                 False                     False                       False   \n",
            "4                 False                     False                       False   \n",
            "\n",
            "   activity_class_Power Saw  activity_class_Prescribed Fire  \\\n",
            "0                     False                           False   \n",
            "1                     False                           False   \n",
            "2                     False                           False   \n",
            "3                     False                           False   \n",
            "4                     False                           False   \n",
            "\n",
            "   activity_class_Rail Transportation  activity_class_Refuelling  \\\n",
            "0                               False                      False   \n",
            "1                               False                      False   \n",
            "2                               False                      False   \n",
            "3                               False                      False   \n",
            "4                               False                      False   \n",
            "\n",
            "   activity_class_Refuse  activity_class_Refuse Disposal  \\\n",
            "0                  False                           False   \n",
            "1                  False                           False   \n",
            "2                  False                           False   \n",
            "3                  False                           False   \n",
            "4                  False                           False   \n",
            "\n",
            "   activity_class_Restart  activity_class_Slash  activity_class_Smoking  \\\n",
            "0                   False                 False                   False   \n",
            "1                   False                 False                   False   \n",
            "2                   False                 False                   False   \n",
            "3                   False                 False                   False   \n",
            "4                   False                 False                   False   \n",
            "\n",
            "   activity_class_Structure Fire  activity_class_Traditional Burning  \\\n",
            "0                          False                               False   \n",
            "1                          False                               False   \n",
            "2                          False                               False   \n",
            "3                          False                               False   \n",
            "4                          False                               False   \n",
            "\n",
            "   activity_class_Transportation  activity_class_Unclassified  \\\n",
            "0                          False                        False   \n",
            "1                          False                        False   \n",
            "2                          False                        False   \n",
            "3                          False                        False   \n",
            "4                          False                        False   \n",
            "\n",
            "   activity_class_Vehicle Trans.  activity_class_Welders  \\\n",
            "0                          False                   False   \n",
            "1                          False                   False   \n",
            "2                          False                   False   \n",
            "3                          False                   False   \n",
            "4                          False                   False   \n",
            "\n",
            "   activity_class_Windrows  activity_class_none  true_cause_Abandoned Fire  \\\n",
            "0                    False                 True                      False   \n",
            "1                    False                False                      False   \n",
            "2                    False                False                      False   \n",
            "3                    False                False                      False   \n",
            "4                    False                False                      False   \n",
            "\n",
            "   true_cause_Animals  true_cause_Arson Known  true_cause_Arson Suspected  \\\n",
            "0               False                   False                       False   \n",
            "1               False                   False                       False   \n",
            "2               False                   False                       False   \n",
            "3               False                   False                       False   \n",
            "4               False                   False                       False   \n",
            "\n",
            "   true_cause_Burning Substance  true_cause_Flammable Fluids  \\\n",
            "0                         False                        False   \n",
            "1                         False                        False   \n",
            "2                         False                        False   \n",
            "3                         False                        False   \n",
            "4                         False                        False   \n",
            "\n",
            "   true_cause_Friction Spark  true_cause_High Hazard  true_cause_Hot Exhaust  \\\n",
            "0                      False                   False                   False   \n",
            "1                      False                   False                   False   \n",
            "2                      False                   False                   False   \n",
            "3                      False                   False                   False   \n",
            "4                      False                   False                   False   \n",
            "\n",
            "   true_cause_Incendiary Device  true_cause_Insufficient Buffer  \\\n",
            "0                         False                           False   \n",
            "1                         False                           False   \n",
            "2                         False                           False   \n",
            "3                         False                           False   \n",
            "4                         False                           False   \n",
            "\n",
            "   true_cause_Insufficient Resources  true_cause_Line Impact  \\\n",
            "0                              False                   False   \n",
            "1                              False                   False   \n",
            "2                              False                   False   \n",
            "3                              False                   False   \n",
            "4                              False                   False   \n",
            "\n",
            "   true_cause_Mechanical Failure  true_cause_Permit Related  \\\n",
            "0                          False                      False   \n",
            "1                          False                      False   \n",
            "2                          False                      False   \n",
            "3                          False                      False   \n",
            "4                          False                      False   \n",
            "\n",
            "   true_cause_Unattended Fire  true_cause_Unclassified  \\\n",
            "0                       False                    False   \n",
            "1                       False                    False   \n",
            "2                       False                    False   \n",
            "3                       False                    False   \n",
            "4                       False                    False   \n",
            "\n",
            "   true_cause_Unpredictable Event  true_cause_Unsafe Fire  \\\n",
            "0                           False                   False   \n",
            "1                           False                   False   \n",
            "2                           False                   False   \n",
            "3                           False                    True   \n",
            "4                           False                    True   \n",
            "\n",
            "   true_cause_Vehicle Fire  true_cause_Winter Burning  true_cause_none  \\\n",
            "0                    False                      False             True   \n",
            "1                    False                       True            False   \n",
            "2                    False                      False             True   \n",
            "3                    False                      False            False   \n",
            "4                    False                      False            False   \n",
            "\n",
            "   det_agent_310  det_agent_AC  det_agent_AD  det_agent_AL  det_agent_AM  \\\n",
            "0          False         False         False         False         False   \n",
            "1          False         False         False         False         False   \n",
            "2          False         False         False         False         False   \n",
            "3          False         False         False         False         False   \n",
            "4          False         False         False         False         False   \n",
            "\n",
            "   det_agent_AN  det_agent_ASU  det_agent_AT  det_agent_AU  det_agent_BC  \\\n",
            "0         False          False         False         False         False   \n",
            "1         False          False         False         False         False   \n",
            "2         False          False         False         False         False   \n",
            "3         False          False         False         False         False   \n",
            "4         False          False         False         False         False   \n",
            "\n",
            "   det_agent_BD  det_agent_BE  det_agent_BF  det_agent_BH  det_agent_BI  \\\n",
            "0         False         False         False         False         False   \n",
            "1         False         False         False         False         False   \n",
            "2         False         False         False         False         False   \n",
            "3         False         False         False         False         False   \n",
            "4         False         False         False         False         False   \n",
            "\n",
            "   det_agent_BL  det_agent_BM  det_agent_BN  det_agent_BP  det_agent_BR  \\\n",
            "0         False         False         False         False         False   \n",
            "1         False         False         False         False         False   \n",
            "2         False         False         False         False         False   \n",
            "3         False         False         False         False         False   \n",
            "4         False         False         False         False         False   \n",
            "\n",
            "   det_agent_BS  det_agent_BT  det_agent_BY  det_agent_BZ  det_agent_CA  \\\n",
            "0         False         False         False         False         False   \n",
            "1         False         False         False         False         False   \n",
            "2         False         False         False         False         False   \n",
            "3         False         False         False         False         False   \n",
            "4         False         False         False         False         False   \n",
            "\n",
            "   det_agent_CB  det_agent_CC  det_agent_CE  det_agent_CF  det_agent_CH  \\\n",
            "0         False         False         False         False         False   \n",
            "1         False         False         False         False         False   \n",
            "2         False         False         False         False         False   \n",
            "3         False         False         False         False         False   \n",
            "4         False         False         False         False         False   \n",
            "\n",
            "   det_agent_CK  det_agent_CM  det_agent_CP  det_agent_CREW  det_agent_CT  \\\n",
            "0         False         False         False           False         False   \n",
            "1         False         False         False           False         False   \n",
            "2         False         False          True           False         False   \n",
            "3         False         False         False           False         False   \n",
            "4         False         False         False           False         False   \n",
            "\n",
            "   det_agent_CU  det_agent_CY  det_agent_DG  det_agent_DM  det_agent_DW  \\\n",
            "0         False         False         False         False         False   \n",
            "1         False         False         False         False         False   \n",
            "2         False         False         False         False         False   \n",
            "3         False         False         False         False         False   \n",
            "4         False         False         False         False         False   \n",
            "\n",
            "   det_agent_EA  det_agent_EC  det_agent_ED  det_agent_EH  det_agent_EL  \\\n",
            "0         False         False         False         False         False   \n",
            "1         False         False         False         False         False   \n",
            "2         False         False         False         False         False   \n",
            "3         False         False         False         False         False   \n",
            "4         False         False         False         False         False   \n",
            "\n",
            "   det_agent_FG  det_agent_FL  det_agent_FO  det_agent_FRST  det_agent_FT  \\\n",
            "0         False         False         False           False         False   \n",
            "1         False         False         False           False         False   \n",
            "2         False         False         False           False         False   \n",
            "3         False         False         False           False         False   \n",
            "4         False         False         False           False         False   \n",
            "\n",
            "   det_agent_FW  det_agent_GARD  det_agent_GE  det_agent_GF  det_agent_GL  \\\n",
            "0         False           False         False         False         False   \n",
            "1         False           False         False         False         False   \n",
            "2         False           False         False         False         False   \n",
            "3         False           False         False         False         False   \n",
            "4         False           False         False         False         False   \n",
            "\n",
            "   det_agent_GM  det_agent_GOVT  det_agent_GT  det_agent_HA  det_agent_HAC  \\\n",
            "0         False           False         False         False          False   \n",
            "1         False           False         False         False          False   \n",
            "2         False           False         False         False          False   \n",
            "3         False            True         False         False          False   \n",
            "4         False           False         False         False          False   \n",
            "\n",
            "   det_agent_HB  det_agent_HH  det_agent_HK  det_agent_HL  det_agent_HM  \\\n",
            "0         False         False         False         False         False   \n",
            "1         False         False         False         False         False   \n",
            "2         False         False         False         False         False   \n",
            "3         False         False         False         False         False   \n",
            "4         False         False         False         False         False   \n",
            "\n",
            "   det_agent_HU  det_agent_IM  det_agent_IS  det_agent_JE  det_agent_JM  \\\n",
            "0         False         False         False         False         False   \n",
            "1         False         False         False         False         False   \n",
            "2         False         False         False         False         False   \n",
            "3         False         False         False         False         False   \n",
            "4         False         False         False         False         False   \n",
            "\n",
            "   det_agent_JO  det_agent_KA  det_agent_KB  det_agent_KE  det_agent_KK  \\\n",
            "0         False         False         False         False         False   \n",
            "1         False         False         False         False         False   \n",
            "2         False         False         False         False         False   \n",
            "3         False         False         False         False         False   \n",
            "4         False         False         False         False         False   \n",
            "\n",
            "   det_agent_KM  det_agent_LFS  det_agent_LG  det_agent_LI  det_agent_LK  \\\n",
            "0         False          False         False         False         False   \n",
            "1         False          False         False         False         False   \n",
            "2         False          False         False         False         False   \n",
            "3         False          False         False         False         False   \n",
            "4         False          False         False         False         False   \n",
            "\n",
            "   det_agent_LO  det_agent_LV  det_agent_MB  det_agent_MD  det_agent_MH  \\\n",
            "0         False         False         False         False         False   \n",
            "1         False         False         False         False         False   \n",
            "2         False         False         False         False         False   \n",
            "3         False         False         False         False         False   \n",
            "4         False         False         False         False         False   \n",
            "\n",
            "   det_agent_MN  det_agent_MO  det_agent_MQ  det_agent_MR  det_agent_MS  \\\n",
            "0         False         False         False         False         False   \n",
            "1         False         False         False         False         False   \n",
            "2         False         False         False         False         False   \n",
            "3         False         False         False         False         False   \n",
            "4         False         False         False         False         False   \n",
            "\n",
            "   det_agent_MU  det_agent_MY  det_agent_NM  det_agent_NO  det_agent_OB  \\\n",
            "0         False         False         False         False         False   \n",
            "1         False         False         False         False         False   \n",
            "2         False         False         False         False         False   \n",
            "3         False         False         False         False         False   \n",
            "4         False         False         False         False         False   \n",
            "\n",
            "   det_agent_OL  det_agent_PA  det_agent_PATR  det_agent_PD  det_agent_PIND  \\\n",
            "0         False         False           False         False           False   \n",
            "1         False         False           False         False           False   \n",
            "2         False         False           False         False           False   \n",
            "3         False         False           False         False           False   \n",
            "4         False         False           False         False           False   \n",
            "\n",
            "   det_agent_PL  det_agent_PO  det_agent_PS  det_agent_PT  det_agent_PU  \\\n",
            "0         False         False         False         False         False   \n",
            "1         False         False         False         False         False   \n",
            "2         False         False         False         False         False   \n",
            "3         False         False         False         False         False   \n",
            "4         False         False         False         False         False   \n",
            "\n",
            "   det_agent_PUB  det_agent_RA  det_agent_RAP  det_agent_RE  det_agent_RH  \\\n",
            "0          False         False          False         False         False   \n",
            "1          False         False          False         False         False   \n",
            "2          False         False          False         False         False   \n",
            "3          False         False          False         False         False   \n",
            "4           True         False          False         False         False   \n",
            "\n",
            "   det_agent_RI  det_agent_RK  det_agent_RR  det_agent_RT  det_agent_RW  \\\n",
            "0         False         False         False         False         False   \n",
            "1         False         False         False         False         False   \n",
            "2         False         False         False         False         False   \n",
            "3         False         False         False         False         False   \n",
            "4         False         False         False         False         False   \n",
            "\n",
            "   det_agent_RY  det_agent_SA  det_agent_SD  det_agent_SG  det_agent_SI  \\\n",
            "0         False         False         False         False         False   \n",
            "1         False         False         False         False         False   \n",
            "2         False         False         False         False         False   \n",
            "3         False         False         False         False         False   \n",
            "4         False         False         False         False         False   \n",
            "\n",
            "   det_agent_SK  det_agent_SN  det_agent_SP  det_agent_SQ  det_agent_SR  \\\n",
            "0         False         False         False         False         False   \n",
            "1         False         False         False         False         False   \n",
            "2         False         False         False         False         False   \n",
            "3         False         False         False         False         False   \n",
            "4         False         False         False         False         False   \n",
            "\n",
            "   det_agent_ST  det_agent_SV  det_agent_SW  det_agent_TM  det_agent_TO  \\\n",
            "0         False         False         False         False         False   \n",
            "1         False         False         False         False         False   \n",
            "2         False         False         False         False         False   \n",
            "3         False         False         False         False         False   \n",
            "4         False         False         False         False         False   \n",
            "\n",
            "   det_agent_TP  det_agent_TR  det_agent_TT  det_agent_TY  det_agent_UAA  \\\n",
            "0         False         False         False         False           True   \n",
            "1         False         False         False         False          False   \n",
            "2         False         False         False         False          False   \n",
            "3         False         False         False         False          False   \n",
            "4         False         False         False         False          False   \n",
            "\n",
            "   det_agent_UIND  det_agent_UPA  det_agent_VG  det_agent_WC  det_agent_WD  \\\n",
            "0           False          False         False         False         False   \n",
            "1            True          False         False         False         False   \n",
            "2           False          False         False         False         False   \n",
            "3           False          False         False         False         False   \n",
            "4           False          False         False         False         False   \n",
            "\n",
            "   det_agent_WF  det_agent_WI  det_agent_WM  det_agent_WT  det_agent_WU  \\\n",
            "0         False         False         False         False         False   \n",
            "1         False         False         False         False         False   \n",
            "2         False         False         False         False         False   \n",
            "3         False         False         False         False         False   \n",
            "4         False         False         False         False         False   \n",
            "\n",
            "   det_agent_YA  det_agent_YH  det_agent_ZA  det_agent_none  \\\n",
            "0         False         False         False           False   \n",
            "1         False         False         False           False   \n",
            "2         False         False         False           False   \n",
            "3         False         False         False           False   \n",
            "4         False         False         False           False   \n",
            "\n",
            "   det_agent_type_AIR  det_agent_type_GRP  det_agent_type_LKT  \\\n",
            "0               False               False               False   \n",
            "1               False               False               False   \n",
            "2               False               False                True   \n",
            "3               False               False               False   \n",
            "4               False               False               False   \n",
            "\n",
            "   det_agent_type_UNP  det_agent_type_none  dispatched_resource_Air Tanker  \\\n",
            "0                True                False                           False   \n",
            "1                True                False                           False   \n",
            "2               False                False                           False   \n",
            "3                True                False                           False   \n",
            "4                True                False                           False   \n",
            "\n",
            "   dispatched_resource_FPD Staff  dispatched_resource_FTAC  \\\n",
            "0                          False                     False   \n",
            "1                           True                     False   \n",
            "2                           True                     False   \n",
            "3                          False                     False   \n",
            "4                           True                     False   \n",
            "\n",
            "   dispatched_resource_HAC  dispatched_resource_RAP  dispatched_resource_UNIT  \\\n",
            "0                     True                    False                     False   \n",
            "1                    False                    False                     False   \n",
            "2                    False                    False                     False   \n",
            "3                     True                    False                     False   \n",
            "4                    False                    False                     False   \n",
            "\n",
            "   dispatched_resource_WFC2  dispatched_resource_none  \\\n",
            "0                     False                     False   \n",
            "1                     False                     False   \n",
            "2                     False                     False   \n",
            "3                     False                     False   \n",
            "4                     False                     False   \n",
            "\n",
            "   assessment_resource_AAO  assessment_resource_IA Forces  \\\n",
            "0                    False                           True   \n",
            "1                    False                          False   \n",
            "2                    False                           True   \n",
            "3                    False                           True   \n",
            "4                    False                           True   \n",
            "\n",
            "   assessment_resource_Other  assessment_resource_Wildfire Assessor  \\\n",
            "0                      False                                  False   \n",
            "1                      False                                   True   \n",
            "2                      False                                  False   \n",
            "3                      False                                  False   \n",
            "4                      False                                  False   \n",
            "\n",
            "   fire_type_    fire_type_   Surface  fire_type_Crown  fire_type_Ground  \\\n",
            "0         False                 False            False             False   \n",
            "1         False                 False            False              True   \n",
            "2         False                 False            False             False   \n",
            "3         False                 False            False             False   \n",
            "4         False                 False            False             False   \n",
            "\n",
            "   fire_type_Surface  fire_type_none  fire_position_on_slope_Bottom  \\\n",
            "0               True           False                          False   \n",
            "1              False           False                          False   \n",
            "2               True           False                          False   \n",
            "3               True           False                          False   \n",
            "4               True           False                          False   \n",
            "\n",
            "   fire_position_on_slope_Flat  fire_position_on_slope_Lower 1/3  \\\n",
            "0                         True                             False   \n",
            "1                         True                             False   \n",
            "2                         True                             False   \n",
            "3                         True                             False   \n",
            "4                         True                             False   \n",
            "\n",
            "   fire_position_on_slope_Middle 1/3  fire_position_on_slope_Upper 1/3  \\\n",
            "0                              False                             False   \n",
            "1                              False                             False   \n",
            "2                              False                             False   \n",
            "3                              False                             False   \n",
            "4                              False                             False   \n",
            "\n",
            "   fire_position_on_slope_none  weather_conditions_over_fire_CB Dry  \\\n",
            "0                        False                                False   \n",
            "1                        False                                False   \n",
            "2                        False                                False   \n",
            "3                        False                                False   \n",
            "4                        False                                False   \n",
            "\n",
            "   weather_conditions_over_fire_CB Wet  weather_conditions_over_fire_Clear  \\\n",
            "0                                False                                True   \n",
            "1                                False                               False   \n",
            "2                                False                                True   \n",
            "3                                False                               False   \n",
            "4                                False                               False   \n",
            "\n",
            "   weather_conditions_over_fire_Cloudy  \\\n",
            "0                                False   \n",
            "1                                 True   \n",
            "2                                False   \n",
            "3                                 True   \n",
            "4                                 True   \n",
            "\n",
            "   weather_conditions_over_fire_Rainshowers  \\\n",
            "0                                     False   \n",
            "1                                     False   \n",
            "2                                     False   \n",
            "3                                     False   \n",
            "4                                     False   \n",
            "\n",
            "   weather_conditions_over_fire_none  wind_direction_ NW  wind_direction_ S  \\\n",
            "0                              False               False              False   \n",
            "1                              False               False              False   \n",
            "2                              False               False              False   \n",
            "3                              False               False              False   \n",
            "4                              False               False              False   \n",
            "\n",
            "   wind_direction_CLM  wind_direction_E  wind_direction_N  wind_direction_NE  \\\n",
            "0               False             False             False              False   \n",
            "1               False             False             False              False   \n",
            "2               False             False             False              False   \n",
            "3               False             False              True              False   \n",
            "4               False             False             False              False   \n",
            "\n",
            "   wind_direction_NW  wind_direction_S  wind_direction_SE  wind_direction_SW  \\\n",
            "0              False             False               True              False   \n",
            "1              False             False               True              False   \n",
            "2               True             False              False              False   \n",
            "3              False             False              False              False   \n",
            "4              False             False              False              False   \n",
            "\n",
            "   wind_direction_W  wind_direction_none  fuel_type_C1  fuel_type_C2  \\\n",
            "0             False                False         False          True   \n",
            "1             False                False         False         False   \n",
            "2             False                False         False         False   \n",
            "3             False                False         False         False   \n",
            "4              True                False         False         False   \n",
            "\n",
            "   fuel_type_C3  fuel_type_C4  fuel_type_C7  fuel_type_D1  fuel_type_M1  \\\n",
            "0         False         False         False         False         False   \n",
            "1         False         False         False         False         False   \n",
            "2         False         False         False         False         False   \n",
            "3         False         False         False         False         False   \n",
            "4         False         False         False         False         False   \n",
            "\n",
            "   fuel_type_M2  fuel_type_M3  fuel_type_M4  fuel_type_O1a  fuel_type_O1b  \\\n",
            "0         False         False         False          False          False   \n",
            "1         False         False         False          False          False   \n",
            "2         False         False         False           True          False   \n",
            "3         False         False         False           True          False   \n",
            "4         False         False         False           True          False   \n",
            "\n",
            "   fuel_type_S1  fuel_type_S2  fuel_type_none  initial_action_by_Air Tanker  \\\n",
            "0         False         False           False                         False   \n",
            "1         False         False            True                         False   \n",
            "2         False         False           False                         False   \n",
            "3         False         False           False                         False   \n",
            "4         False         False           False                         False   \n",
            "\n",
            "   initial_action_by_FPD Staff  initial_action_by_FTAC  \\\n",
            "0                        False                   False   \n",
            "1                        False                   False   \n",
            "2                        False                    True   \n",
            "3                        False                   False   \n",
            "4                        False                   False   \n",
            "\n",
            "   initial_action_by_Fire Department  initial_action_by_HAC  \\\n",
            "0                              False                   True   \n",
            "1                              False                  False   \n",
            "2                              False                  False   \n",
            "3                               True                  False   \n",
            "4                               True                  False   \n",
            "\n",
            "   initial_action_by_HAC1F  initial_action_by_HAC1H  initial_action_by_HAC1R  \\\n",
            "0                    False                    False                    False   \n",
            "1                    False                    False                    False   \n",
            "2                    False                    False                    False   \n",
            "3                    False                    False                    False   \n",
            "4                    False                    False                    False   \n",
            "\n",
            "   initial_action_by_Industry  initial_action_by_Land Owner  \\\n",
            "0                       False                         False   \n",
            "1                       False                         False   \n",
            "2                       False                         False   \n",
            "3                       False                         False   \n",
            "4                       False                         False   \n",
            "\n",
            "   initial_action_by_Other Agency  initial_action_by_Public  \\\n",
            "0                           False                     False   \n",
            "1                            True                     False   \n",
            "2                           False                     False   \n",
            "3                           False                     False   \n",
            "4                           False                     False   \n",
            "\n",
            "   initial_action_by_RAP  initial_action_by_UNIT  initial_action_by_WFC2  \\\n",
            "0                  False                   False                   False   \n",
            "1                  False                   False                   False   \n",
            "2                  False                   False                   False   \n",
            "3                  False                   False                   False   \n",
            "4                  False                   False                   False   \n",
            "\n",
            "   initial_action_by_none  ia_access_Conventional R/W  ia_access_Ground  \\\n",
            "0                   False                        True             False   \n",
            "1                   False                       False             False   \n",
            "2                   False                       False              True   \n",
            "3                   False                       False             False   \n",
            "4                   False                       False             False   \n",
            "\n",
            "   ia_access_Hover Exit  ia_access_Rappel  ia_access_none  \\\n",
            "0                 False             False           False   \n",
            "1                 False             False            True   \n",
            "2                 False             False           False   \n",
            "3                 False             False            True   \n",
            "4                 False             False            True   \n",
            "\n",
            "   bucketing_on_fire_N  bucketing_on_fire_Y  bucketing_on_fire_none  \\\n",
            "0                 True                False                   False   \n",
            "1                False                False                    True   \n",
            "2                 True                False                   False   \n",
            "3                False                False                    True   \n",
            "4                False                False                    True   \n",
            "\n",
            "   bucketing_on_fire_y  fire_forest_area_Calgary  fire_forest_area_Edson  \\\n",
            "0                False                     False                   False   \n",
            "1                False                     False                   False   \n",
            "2                False                     False                   False   \n",
            "3                False                     False                   False   \n",
            "4                False                     False                    True   \n",
            "\n",
            "   fire_forest_area_Fort McMurray  fire_forest_area_Grande Prairie  \\\n",
            "0                           False                            False   \n",
            "1                           False                            False   \n",
            "2                           False                            False   \n",
            "3                            True                            False   \n",
            "4                           False                            False   \n",
            "\n",
            "   fire_forest_area_High Level  fire_forest_area_Lac La Biche  \\\n",
            "0                         True                          False   \n",
            "1                        False                          False   \n",
            "2                        False                           True   \n",
            "3                        False                          False   \n",
            "4                        False                          False   \n",
            "\n",
            "   fire_forest_area_Peace River  fire_forest_area_Rocky  \\\n",
            "0                         False                   False   \n",
            "1                         False                    True   \n",
            "2                         False                   False   \n",
            "3                         False                   False   \n",
            "4                         False                   False   \n",
            "\n",
            "   fire_forest_area_Slave Lake  fire_forest_area_Whitecourt  \\\n",
            "0                        False                        False   \n",
            "1                        False                        False   \n",
            "2                        False                        False   \n",
            "3                        False                        False   \n",
            "4                        False                        False   \n",
            "\n",
            "   fire_start_part_of_day_Afternoon  fire_start_part_of_day_Evening  \\\n",
            "0                             False                           False   \n",
            "1                             False                           False   \n",
            "2                              True                           False   \n",
            "3                             False                            True   \n",
            "4                             False                           False   \n",
            "\n",
            "   fire_start_part_of_day_Morning  fire_start_part_of_day_Night  \n",
            "0                            True                         False  \n",
            "1                            True                         False  \n",
            "2                           False                         False  \n",
            "3                           False                         False  \n",
            "4                            True                         False  \n"
          ]
        }
      ],
      "source": [
        "pd.set_option('display.max_columns', None)\n",
        "\n",
        "# Now df.head() will display all columns\n",
        "print(X.head())"
      ]
    },
    {
      "cell_type": "code",
      "execution_count": 16,
      "metadata": {
        "id": "KTnHcSm466K1"
      },
      "outputs": [],
      "source": [
        "X_train, X_test, y_train, y_test = train_test_split(X, y, test_size=0.25, random_state=42)"
      ]
    },
    {
      "cell_type": "code",
      "execution_count": 24,
      "metadata": {
        "colab": {
          "base_uri": "https://localhost:8080/"
        },
        "id": "AjPQS47n7in1",
        "outputId": "0c948228-19be-4152-dc25-d2e88a5e1c36"
      },
      "outputs": [
        {
          "name": "stdout",
          "output_type": "stream",
          "text": [
            "Fitting 3 folds for each of 8 candidates, totalling 24 fits\n",
            "Best parameters for KNN: {'n_neighbors': 2, 'p': 1, 'weights': 'uniform'}\n",
            "Best RMSE for KNN: 0.7418254225735456\n",
            "\n",
            "Fitting 3 folds for each of 60 candidates, totalling 180 fits\n"
          ]
        },
        {
          "name": "stderr",
          "output_type": "stream",
          "text": [
            "/usr/local/lib/python3.10/dist-packages/sklearn/tree/_classes.py:269: FutureWarning: `max_features='auto'` has been deprecated in 1.1 and will be removed in 1.3. To keep the past behaviour, explicitly set `max_features='sqrt'`.\n",
            "  warnings.warn(\n"
          ]
        },
        {
          "name": "stdout",
          "output_type": "stream",
          "text": [
            "Best parameters for BalancedDecisionTree: {'ccp_alpha': 0.001, 'class_weight': None, 'criterion': 'entropy', 'max_depth': 9, 'max_features': 'auto'}\n",
            "Best RMSE for BalancedDecisionTree: 0.6464697895073549\n",
            "\n",
            "Fitting 3 folds for each of 27 candidates, totalling 81 fits\n",
            "Best parameters for RandomForest: {'max_depth': 30, 'min_samples_split': 2, 'n_estimators': 200}\n",
            "Best RMSE for RandomForest: 0.44714844648703994\n",
            "\n",
            "Fitting 3 folds for each of 27 candidates, totalling 81 fits\n",
            "Best parameters for XGBoost: {'learning_rate': 0.1, 'max_depth': 6, 'n_estimators': 200}\n",
            "Best RMSE for XGBoost: 0.3730831781630389\n",
            "\n"
          ]
        }
      ],
      "source": [
        "models = {\n",
        "  'KNN': KNeighborsClassifier(),\n",
        "  'BalancedDecisionTree': DecisionTreeClassifier(random_state=42),\n",
        "  'RandomForest': RandomForestClassifier(random_state=42),\n",
        "  'XGBoost': XGBClassifier(random_state=42),\n",
        "}\n",
        "\n",
        "param_grids = {\n",
        "  'KNN': {\n",
        "    'n_neighbors': np.arange(1, 3),\n",
        "    'weights': ['uniform', 'distance'],\n",
        "    'p': [1, 2]\n",
        "  },\n",
        "  'BalancedDecisionTree': {\n",
        "    'max_features': ['auto'],\n",
        "    'ccp_alpha': [0.1, .01, .001],\n",
        "    'max_depth' : [5, 6, 7, 8, 9],\n",
        "    'criterion' :['gini', 'entropy'],\n",
        "    'class_weight': ['balanced', None]\n",
        "  },\n",
        "  'RandomForest': {\n",
        "      'n_estimators': [100, 200, 500],\n",
        "      'max_depth': [None, 10, 30],\n",
        "      'min_samples_split': [2, 5, 10],\n",
        "  },\n",
        "  'XGBoost': {\n",
        "      'n_estimators': [100, 200, 500],\n",
        "      'learning_rate': [0.01, 0.1, 0.3],\n",
        "      'max_depth': [3, 6, 10],\n",
        "  },\n",
        "}\n",
        "\n",
        "# 3-fold cross-validation\n",
        "cv = KFold(n_splits=3, shuffle=True, random_state=42)\n",
        "\n",
        "# Train and tune the models\n",
        "grids = {}\n",
        "for model_name, model in models.items():\n",
        "    #print(f'Training and tuning {model_name}...')\n",
        "    grids[model_name] = GridSearchCV(estimator=model, param_grid=param_grids[model_name], cv=cv, scoring='neg_mean_squared_error', n_jobs=-1, verbose=2)\n",
        "    grids[model_name].fit(X_train, y_train)\n",
        "    best_params = grids[model_name].best_params_\n",
        "    best_score = np.sqrt(-1 * grids[model_name].best_score_)\n",
        "\n",
        "    print(f'Best parameters for {model_name}: {best_params}')\n",
        "    print(f'Best RMSE for {model_name}: {best_score}\\n')\n",
        "\n"
      ]
    },
    {
      "cell_type": "markdown",
      "metadata": {
        "id": "6N-RAfhmYrTL"
      },
      "source": [
        "# Testing Models\n"
      ]
    },
    {
      "cell_type": "code",
      "execution_count": 25,
      "metadata": {
        "id": "vEutZT9NaGKa"
      },
      "outputs": [],
      "source": [
        "model_stats = pd.DataFrame(columns=['Model', 'Accuracy', 'Precision', 'Recall', 'F1 Score'])"
      ]
    },
    {
      "cell_type": "code",
      "execution_count": 61,
      "metadata": {
        "id": "0o1iEF1OYtVT"
      },
      "outputs": [],
      "source": [
        "def evaluate_model(model_name, y_pred):\n",
        "  print(model_name+':')\n",
        "\n",
        "  cm = confusion_matrix(y_test, y_pred)\n",
        "\n",
        "  accuracy = accuracy_score(y_test, y_pred)\n",
        "  report = classification_report(y_test, y_pred, output_dict=True)\n",
        "  macro_precision = report['macro avg']['precision']\n",
        "  macro_recall = report['macro avg']['recall']\n",
        "  macro_f1 = report['macro avg']['f1-score']\n",
        "\n",
        "  # Append Metrics to DataFrame\n",
        "  global model_stats\n",
        "  model_stats.loc[len(model_stats)] = [model_name, accuracy, macro_precision, macro_recall, macro_f1]\n",
        "\n",
        "  plt.figure(figsize=(10,7))\n",
        "  sns.heatmap(cm, annot=True, fmt='d', cmap='Blues')\n",
        "  plt.xlabel('Predicted')\n",
        "  plt.ylabel('Truth')\n",
        "  plt.title(f'{model_name} Confusion Matrix')\n",
        "  plt.show()\n",
        "\n",
        "  print(classification_report(y_test, y_pred))"
      ]
    },
    {
      "cell_type": "markdown",
      "metadata": {
        "id": "nR86ggveYCHl"
      },
      "source": [
        "## Random Forest"
      ]
    },
    {
      "cell_type": "code",
      "execution_count": 63,
      "metadata": {
        "colab": {
          "base_uri": "https://localhost:8080/",
          "height": 75
        },
        "id": "roRLCnAKYBOI",
        "outputId": "d3bdbd3e-2abd-4302-876f-21c61a2bb2de"
      },
      "outputs": [
        {
          "data": {
            "text/html": [
              "<style>#sk-container-id-8 {color: black;background-color: white;}#sk-container-id-8 pre{padding: 0;}#sk-container-id-8 div.sk-toggleable {background-color: white;}#sk-container-id-8 label.sk-toggleable__label {cursor: pointer;display: block;width: 100%;margin-bottom: 0;padding: 0.3em;box-sizing: border-box;text-align: center;}#sk-container-id-8 label.sk-toggleable__label-arrow:before {content: \"▸\";float: left;margin-right: 0.25em;color: #696969;}#sk-container-id-8 label.sk-toggleable__label-arrow:hover:before {color: black;}#sk-container-id-8 div.sk-estimator:hover label.sk-toggleable__label-arrow:before {color: black;}#sk-container-id-8 div.sk-toggleable__content {max-height: 0;max-width: 0;overflow: hidden;text-align: left;background-color: #f0f8ff;}#sk-container-id-8 div.sk-toggleable__content pre {margin: 0.2em;color: black;border-radius: 0.25em;background-color: #f0f8ff;}#sk-container-id-8 input.sk-toggleable__control:checked~div.sk-toggleable__content {max-height: 200px;max-width: 100%;overflow: auto;}#sk-container-id-8 input.sk-toggleable__control:checked~label.sk-toggleable__label-arrow:before {content: \"▾\";}#sk-container-id-8 div.sk-estimator input.sk-toggleable__control:checked~label.sk-toggleable__label {background-color: #d4ebff;}#sk-container-id-8 div.sk-label input.sk-toggleable__control:checked~label.sk-toggleable__label {background-color: #d4ebff;}#sk-container-id-8 input.sk-hidden--visually {border: 0;clip: rect(1px 1px 1px 1px);clip: rect(1px, 1px, 1px, 1px);height: 1px;margin: -1px;overflow: hidden;padding: 0;position: absolute;width: 1px;}#sk-container-id-8 div.sk-estimator {font-family: monospace;background-color: #f0f8ff;border: 1px dotted black;border-radius: 0.25em;box-sizing: border-box;margin-bottom: 0.5em;}#sk-container-id-8 div.sk-estimator:hover {background-color: #d4ebff;}#sk-container-id-8 div.sk-parallel-item::after {content: \"\";width: 100%;border-bottom: 1px solid gray;flex-grow: 1;}#sk-container-id-8 div.sk-label:hover label.sk-toggleable__label {background-color: #d4ebff;}#sk-container-id-8 div.sk-serial::before {content: \"\";position: absolute;border-left: 1px solid gray;box-sizing: border-box;top: 0;bottom: 0;left: 50%;z-index: 0;}#sk-container-id-8 div.sk-serial {display: flex;flex-direction: column;align-items: center;background-color: white;padding-right: 0.2em;padding-left: 0.2em;position: relative;}#sk-container-id-8 div.sk-item {position: relative;z-index: 1;}#sk-container-id-8 div.sk-parallel {display: flex;align-items: stretch;justify-content: center;background-color: white;position: relative;}#sk-container-id-8 div.sk-item::before, #sk-container-id-8 div.sk-parallel-item::before {content: \"\";position: absolute;border-left: 1px solid gray;box-sizing: border-box;top: 0;bottom: 0;left: 50%;z-index: -1;}#sk-container-id-8 div.sk-parallel-item {display: flex;flex-direction: column;z-index: 1;position: relative;background-color: white;}#sk-container-id-8 div.sk-parallel-item:first-child::after {align-self: flex-end;width: 50%;}#sk-container-id-8 div.sk-parallel-item:last-child::after {align-self: flex-start;width: 50%;}#sk-container-id-8 div.sk-parallel-item:only-child::after {width: 0;}#sk-container-id-8 div.sk-dashed-wrapped {border: 1px dashed gray;margin: 0 0.4em 0.5em 0.4em;box-sizing: border-box;padding-bottom: 0.4em;background-color: white;}#sk-container-id-8 div.sk-label label {font-family: monospace;font-weight: bold;display: inline-block;line-height: 1.2em;}#sk-container-id-8 div.sk-label-container {text-align: center;}#sk-container-id-8 div.sk-container {/* jupyter's `normalize.less` sets `[hidden] { display: none; }` but bootstrap.min.css set `[hidden] { display: none !important; }` so we also need the `!important` here to be able to override the default hidden behavior on the sphinx rendered scikit-learn.org. See: https://github.com/scikit-learn/scikit-learn/issues/21755 */display: inline-block !important;position: relative;}#sk-container-id-8 div.sk-text-repr-fallback {display: none;}</style><div id=\"sk-container-id-8\" class=\"sk-top-container\"><div class=\"sk-text-repr-fallback\"><pre>RandomForestClassifier(max_depth=30, n_estimators=200)</pre><b>In a Jupyter environment, please rerun this cell to show the HTML representation or trust the notebook. <br />On GitHub, the HTML representation is unable to render, please try loading this page with nbviewer.org.</b></div><div class=\"sk-container\" hidden><div class=\"sk-item\"><div class=\"sk-estimator sk-toggleable\"><input class=\"sk-toggleable__control sk-hidden--visually\" id=\"sk-estimator-id-10\" type=\"checkbox\" checked><label for=\"sk-estimator-id-10\" class=\"sk-toggleable__label sk-toggleable__label-arrow\">RandomForestClassifier</label><div class=\"sk-toggleable__content\"><pre>RandomForestClassifier(max_depth=30, n_estimators=200)</pre></div></div></div></div></div>"
            ],
            "text/plain": [
              "RandomForestClassifier(max_depth=30, n_estimators=200)"
            ]
          },
          "execution_count": 63,
          "metadata": {},
          "output_type": "execute_result"
        }
      ],
      "source": [
        "rf_model = RandomForestClassifier(max_depth=30, min_samples_split=2, n_estimators=200)\n",
        "rf_model.fit(X_train, y_train)"
      ]
    },
    {
      "cell_type": "code",
      "execution_count": 64,
      "metadata": {
        "id": "s7c1r8QdYNAf"
      },
      "outputs": [],
      "source": [
        "y_pred = rf_model.predict(X_test)"
      ]
    },
    {
      "cell_type": "code",
      "execution_count": 65,
      "metadata": {
        "colab": {
          "base_uri": "https://localhost:8080/",
          "height": 867
        },
        "id": "l8CKtthvZzs5",
        "outputId": "60e8d6c7-90f8-4a59-d133-7c940b2dac1e"
      },
      "outputs": [
        {
          "name": "stdout",
          "output_type": "stream",
          "text": [
            "RandomForest:\n"
          ]
        },
        {
          "data": {
            "image/png": "[encoded data removed]",
            "text/plain": [
              "<Figure size 1000x700 with 2 Axes>"
            ]
          },
          "metadata": {},
          "output_type": "display_data"
        },
        {
          "name": "stdout",
          "output_type": "stream",
          "text": [
            "              precision    recall  f1-score   support\n",
            "\n",
            "           0       0.96      0.98      0.97      3897\n",
            "           1       0.78      0.89      0.83      1410\n",
            "           2       0.58      0.25      0.35       253\n",
            "           3       0.50      0.03      0.05        72\n",
            "           4       0.74      0.18      0.28        97\n",
            "\n",
            "    accuracy                           0.90      5729\n",
            "   macro avg       0.71      0.46      0.50      5729\n",
            "weighted avg       0.89      0.90      0.88      5729\n",
            "\n"
          ]
        }
      ],
      "source": [
        "evaluate_model('RandomForest', y_pred)"
      ]
    },
    {
      "cell_type": "markdown",
      "metadata": {
        "id": "BTETGq4laO6E"
      },
      "source": [
        "## XGBoost"
      ]
    },
    {
      "cell_type": "code",
      "execution_count": 67,
      "metadata": {
        "colab": {
          "base_uri": "https://localhost:8080/",
          "height": 248
        },
        "id": "Pj6oX7cWaQTg",
        "outputId": "b2dc6300-927d-4886-b3df-17f4f28c7290"
      },
      "outputs": [
        {
          "data": {
            "text/html": [
              "<style>#sk-container-id-9 {color: black;background-color: white;}#sk-container-id-9 pre{padding: 0;}#sk-container-id-9 div.sk-toggleable {background-color: white;}#sk-container-id-9 label.sk-toggleable__label {cursor: pointer;display: block;width: 100%;margin-bottom: 0;padding: 0.3em;box-sizing: border-box;text-align: center;}#sk-container-id-9 label.sk-toggleable__label-arrow:before {content: \"▸\";float: left;margin-right: 0.25em;color: #696969;}#sk-container-id-9 label.sk-toggleable__label-arrow:hover:before {color: black;}#sk-container-id-9 div.sk-estimator:hover label.sk-toggleable__label-arrow:before {color: black;}#sk-container-id-9 div.sk-toggleable__content {max-height: 0;max-width: 0;overflow: hidden;text-align: left;background-color: #f0f8ff;}#sk-container-id-9 div.sk-toggleable__content pre {margin: 0.2em;color: black;border-radius: 0.25em;background-color: #f0f8ff;}#sk-container-id-9 input.sk-toggleable__control:checked~div.sk-toggleable__content {max-height: 200px;max-width: 100%;overflow: auto;}#sk-container-id-9 input.sk-toggleable__control:checked~label.sk-toggleable__label-arrow:before {content: \"▾\";}#sk-container-id-9 div.sk-estimator input.sk-toggleable__control:checked~label.sk-toggleable__label {background-color: #d4ebff;}#sk-container-id-9 div.sk-label input.sk-toggleable__control:checked~label.sk-toggleable__label {background-color: #d4ebff;}#sk-container-id-9 input.sk-hidden--visually {border: 0;clip: rect(1px 1px 1px 1px);clip: rect(1px, 1px, 1px, 1px);height: 1px;margin: -1px;overflow: hidden;padding: 0;position: absolute;width: 1px;}#sk-container-id-9 div.sk-estimator {font-family: monospace;background-color: #f0f8ff;border: 1px dotted black;border-radius: 0.25em;box-sizing: border-box;margin-bottom: 0.5em;}#sk-container-id-9 div.sk-estimator:hover {background-color: #d4ebff;}#sk-container-id-9 div.sk-parallel-item::after {content: \"\";width: 100%;border-bottom: 1px solid gray;flex-grow: 1;}#sk-container-id-9 div.sk-label:hover label.sk-toggleable__label {background-color: #d4ebff;}#sk-container-id-9 div.sk-serial::before {content: \"\";position: absolute;border-left: 1px solid gray;box-sizing: border-box;top: 0;bottom: 0;left: 50%;z-index: 0;}#sk-container-id-9 div.sk-serial {display: flex;flex-direction: column;align-items: center;background-color: white;padding-right: 0.2em;padding-left: 0.2em;position: relative;}#sk-container-id-9 div.sk-item {position: relative;z-index: 1;}#sk-container-id-9 div.sk-parallel {display: flex;align-items: stretch;justify-content: center;background-color: white;position: relative;}#sk-container-id-9 div.sk-item::before, #sk-container-id-9 div.sk-parallel-item::before {content: \"\";position: absolute;border-left: 1px solid gray;box-sizing: border-box;top: 0;bottom: 0;left: 50%;z-index: -1;}#sk-container-id-9 div.sk-parallel-item {display: flex;flex-direction: column;z-index: 1;position: relative;background-color: white;}#sk-container-id-9 div.sk-parallel-item:first-child::after {align-self: flex-end;width: 50%;}#sk-container-id-9 div.sk-parallel-item:last-child::after {align-self: flex-start;width: 50%;}#sk-container-id-9 div.sk-parallel-item:only-child::after {width: 0;}#sk-container-id-9 div.sk-dashed-wrapped {border: 1px dashed gray;margin: 0 0.4em 0.5em 0.4em;box-sizing: border-box;padding-bottom: 0.4em;background-color: white;}#sk-container-id-9 div.sk-label label {font-family: monospace;font-weight: bold;display: inline-block;line-height: 1.2em;}#sk-container-id-9 div.sk-label-container {text-align: center;}#sk-container-id-9 div.sk-container {/* jupyter's `normalize.less` sets `[hidden] { display: none; }` but bootstrap.min.css set `[hidden] { display: none !important; }` so we also need the `!important` here to be able to override the default hidden behavior on the sphinx rendered scikit-learn.org. See: https://github.com/scikit-learn/scikit-learn/issues/21755 */display: inline-block !important;position: relative;}#sk-container-id-9 div.sk-text-repr-fallback {display: none;}</style><div id=\"sk-container-id-9\" class=\"sk-top-container\"><div class=\"sk-text-repr-fallback\"><pre>XGBClassifier(base_score=None, booster=None, callbacks=None,\n",
              "              colsample_bylevel=None, colsample_bynode=None,\n",
              "              colsample_bytree=None, device=None, early_stopping_rounds=None,\n",
              "              enable_categorical=False, eval_metric=None, feature_types=None,\n",
              "              gamma=None, grow_policy=None, importance_type=None,\n",
              "              interaction_constraints=None, learning_rate=0.1, max_bin=None,\n",
              "              max_cat_threshold=None, max_cat_to_onehot=None,\n",
              "              max_delta_step=None, max_depth=6, max_leaves=None,\n",
              "              min_child_weight=None, missing=nan, monotone_constraints=None,\n",
              "              multi_strategy=None, n_estimators=200, n_jobs=None,\n",
              "              num_parallel_tree=None, objective=&#x27;multi:softprob&#x27;, ...)</pre><b>In a Jupyter environment, please rerun this cell to show the HTML representation or trust the notebook. <br />On GitHub, the HTML representation is unable to render, please try loading this page with nbviewer.org.</b></div><div class=\"sk-container\" hidden><div class=\"sk-item\"><div class=\"sk-estimator sk-toggleable\"><input class=\"sk-toggleable__control sk-hidden--visually\" id=\"sk-estimator-id-11\" type=\"checkbox\" checked><label for=\"sk-estimator-id-11\" class=\"sk-toggleable__label sk-toggleable__label-arrow\">XGBClassifier</label><div class=\"sk-toggleable__content\"><pre>XGBClassifier(base_score=None, booster=None, callbacks=None,\n",
              "              colsample_bylevel=None, colsample_bynode=None,\n",
              "              colsample_bytree=None, device=None, early_stopping_rounds=None,\n",
              "              enable_categorical=False, eval_metric=None, feature_types=None,\n",
              "              gamma=None, grow_policy=None, importance_type=None,\n",
              "              interaction_constraints=None, learning_rate=0.1, max_bin=None,\n",
              "              max_cat_threshold=None, max_cat_to_onehot=None,\n",
              "              max_delta_step=None, max_depth=6, max_leaves=None,\n",
              "              min_child_weight=None, missing=nan, monotone_constraints=None,\n",
              "              multi_strategy=None, n_estimators=200, n_jobs=None,\n",
              "              num_parallel_tree=None, objective=&#x27;multi:softprob&#x27;, ...)</pre></div></div></div></div></div>"
            ],
            "text/plain": [
              "XGBClassifier(base_score=None, booster=None, callbacks=None,\n",
              "              colsample_bylevel=None, colsample_bynode=None,\n",
              "              colsample_bytree=None, device=None, early_stopping_rounds=None,\n",
              "              enable_categorical=False, eval_metric=None, feature_types=None,\n",
              "              gamma=None, grow_policy=None, importance_type=None,\n",
              "              interaction_constraints=None, learning_rate=0.1, max_bin=None,\n",
              "              max_cat_threshold=None, max_cat_to_onehot=None,\n",
              "              max_delta_step=None, max_depth=6, max_leaves=None,\n",
              "              min_child_weight=None, missing=nan, monotone_constraints=None,\n",
              "              multi_strategy=None, n_estimators=200, n_jobs=None,\n",
              "              num_parallel_tree=None, objective='multi:softprob', ...)"
            ]
          },
          "execution_count": 67,
          "metadata": {},
          "output_type": "execute_result"
        }
      ],
      "source": [
        "xgb_model = XGBClassifier(learning_rate=0.1, max_depth=6, n_estimators=200)\n",
        "xgb_model.fit(X_train, y_train)"
      ]
    },
    {
      "cell_type": "code",
      "execution_count": 68,
      "metadata": {
        "id": "bcqQSaP2aYPK"
      },
      "outputs": [],
      "source": [
        "y_pred = xgb_model.predict(X_test)"
      ]
    },
    {
      "cell_type": "code",
      "execution_count": 69,
      "metadata": {
        "colab": {
          "base_uri": "https://localhost:8080/",
          "height": 867
        },
        "id": "nL73Y40Vabp2",
        "outputId": "a9bbc4d3-24b9-46de-8ebe-32e2a59e2d13"
      },
      "outputs": [
        {
          "name": "stdout",
          "output_type": "stream",
          "text": [
            "XGBoost:\n"
          ]
        },
        {
          "data": {
            "image/png": "[encoded data removed]",
            "text/plain": [
              "<Figure size 1000x700 with 2 Axes>"
            ]
          },
          "metadata": {},
          "output_type": "display_data"
        },
        {
          "name": "stdout",
          "output_type": "stream",
          "text": [
            "              precision    recall  f1-score   support\n",
            "\n",
            "           0       0.96      0.98      0.97      3897\n",
            "           1       0.87      0.89      0.88      1410\n",
            "           2       0.61      0.60      0.60       253\n",
            "           3       0.39      0.19      0.26        72\n",
            "           4       0.71      0.31      0.43        97\n",
            "\n",
            "    accuracy                           0.92      5729\n",
            "   macro avg       0.71      0.59      0.63      5729\n",
            "weighted avg       0.91      0.92      0.91      5729\n",
            "\n"
          ]
        }
      ],
      "source": [
        "evaluate_model('XGBoost', y_pred)"
      ]
    },
    {
      "cell_type": "markdown",
      "metadata": {
        "id": "-ncIOwkDS65R"
      },
      "source": [
        "## Balanced Decision Tree with Bagging"
      ]
    },
    {
      "cell_type": "code",
      "execution_count": 70,
      "metadata": {
        "id": "LECRtu1bS9WU"
      },
      "outputs": [],
      "source": [
        "base_estimator = DecisionTreeClassifier(class_weight='balanced',\n",
        "                       criterion='entropy', max_depth=5,\n",
        "                       random_state=42)\n",
        "bbc = BalancedBaggingClassifier(base_estimator=base_estimator, sampling_strategy='auto',\n",
        "                                replacement=False, random_state=42)"
      ]
    },
    {
      "cell_type": "code",
      "execution_count": 71,
      "metadata": {
        "colab": {
          "base_uri": "https://localhost:8080/",
          "height": 172
        },
        "id": "A3ikxpkSVcr3",
        "outputId": "61cd47ab-aa51-434a-930a-cc21f5175291"
      },
      "outputs": [
        {
          "name": "stderr",
          "output_type": "stream",
          "text": [
            "/usr/local/lib/python3.10/dist-packages/imblearn/ensemble/_bagging.py:353: FutureWarning: `base_estimator` was renamed to `estimator` in version 0.10 and will be removed in 0.12.\n",
            "  warnings.warn(\n"
          ]
        },
        {
          "data": {
            "text/html": [
              "<style>#sk-container-id-10 {color: black;background-color: white;}#sk-container-id-10 pre{padding: 0;}#sk-container-id-10 div.sk-toggleable {background-color: white;}#sk-container-id-10 label.sk-toggleable__label {cursor: pointer;display: block;width: 100%;margin-bottom: 0;padding: 0.3em;box-sizing: border-box;text-align: center;}#sk-container-id-10 label.sk-toggleable__label-arrow:before {content: \"▸\";float: left;margin-right: 0.25em;color: #696969;}#sk-container-id-10 label.sk-toggleable__label-arrow:hover:before {color: black;}#sk-container-id-10 div.sk-estimator:hover label.sk-toggleable__label-arrow:before {color: black;}#sk-container-id-10 div.sk-toggleable__content {max-height: 0;max-width: 0;overflow: hidden;text-align: left;background-color: #f0f8ff;}#sk-container-id-10 div.sk-toggleable__content pre {margin: 0.2em;color: black;border-radius: 0.25em;background-color: #f0f8ff;}#sk-container-id-10 input.sk-toggleable__control:checked~div.sk-toggleable__content {max-height: 200px;max-width: 100%;overflow: auto;}#sk-container-id-10 input.sk-toggleable__control:checked~label.sk-toggleable__label-arrow:before {content: \"▾\";}#sk-container-id-10 div.sk-estimator input.sk-toggleable__control:checked~label.sk-toggleable__label {background-color: #d4ebff;}#sk-container-id-10 div.sk-label input.sk-toggleable__control:checked~label.sk-toggleable__label {background-color: #d4ebff;}#sk-container-id-10 input.sk-hidden--visually {border: 0;clip: rect(1px 1px 1px 1px);clip: rect(1px, 1px, 1px, 1px);height: 1px;margin: -1px;overflow: hidden;padding: 0;position: absolute;width: 1px;}#sk-container-id-10 div.sk-estimator {font-family: monospace;background-color: #f0f8ff;border: 1px dotted black;border-radius: 0.25em;box-sizing: border-box;margin-bottom: 0.5em;}#sk-container-id-10 div.sk-estimator:hover {background-color: #d4ebff;}#sk-container-id-10 div.sk-parallel-item::after {content: \"\";width: 100%;border-bottom: 1px solid gray;flex-grow: 1;}#sk-container-id-10 div.sk-label:hover label.sk-toggleable__label {background-color: #d4ebff;}#sk-container-id-10 div.sk-serial::before {content: \"\";position: absolute;border-left: 1px solid gray;box-sizing: border-box;top: 0;bottom: 0;left: 50%;z-index: 0;}#sk-container-id-10 div.sk-serial {display: flex;flex-direction: column;align-items: center;background-color: white;padding-right: 0.2em;padding-left: 0.2em;position: relative;}#sk-container-id-10 div.sk-item {position: relative;z-index: 1;}#sk-container-id-10 div.sk-parallel {display: flex;align-items: stretch;justify-content: center;background-color: white;position: relative;}#sk-container-id-10 div.sk-item::before, #sk-container-id-10 div.sk-parallel-item::before {content: \"\";position: absolute;border-left: 1px solid gray;box-sizing: border-box;top: 0;bottom: 0;left: 50%;z-index: -1;}#sk-container-id-10 div.sk-parallel-item {display: flex;flex-direction: column;z-index: 1;position: relative;background-color: white;}#sk-container-id-10 div.sk-parallel-item:first-child::after {align-self: flex-end;width: 50%;}#sk-container-id-10 div.sk-parallel-item:last-child::after {align-self: flex-start;width: 50%;}#sk-container-id-10 div.sk-parallel-item:only-child::after {width: 0;}#sk-container-id-10 div.sk-dashed-wrapped {border: 1px dashed gray;margin: 0 0.4em 0.5em 0.4em;box-sizing: border-box;padding-bottom: 0.4em;background-color: white;}#sk-container-id-10 div.sk-label label {font-family: monospace;font-weight: bold;display: inline-block;line-height: 1.2em;}#sk-container-id-10 div.sk-label-container {text-align: center;}#sk-container-id-10 div.sk-container {/* jupyter's `normalize.less` sets `[hidden] { display: none; }` but bootstrap.min.css set `[hidden] { display: none !important; }` so we also need the `!important` here to be able to override the default hidden behavior on the sphinx rendered scikit-learn.org. See: https://github.com/scikit-learn/scikit-learn/issues/21755 */display: inline-block !important;position: relative;}#sk-container-id-10 div.sk-text-repr-fallback {display: none;}</style><div id=\"sk-container-id-10\" class=\"sk-top-container\"><div class=\"sk-text-repr-fallback\"><pre>BalancedBaggingClassifier(base_estimator=DecisionTreeClassifier(class_weight=&#x27;balanced&#x27;,\n",
              "                                                                criterion=&#x27;entropy&#x27;,\n",
              "                                                                max_depth=5,\n",
              "                                                                random_state=42),\n",
              "                          random_state=42)</pre><b>In a Jupyter environment, please rerun this cell to show the HTML representation or trust the notebook. <br />On GitHub, the HTML representation is unable to render, please try loading this page with nbviewer.org.</b></div><div class=\"sk-container\" hidden><div class=\"sk-item sk-dashed-wrapped\"><div class=\"sk-label-container\"><div class=\"sk-label sk-toggleable\"><input class=\"sk-toggleable__control sk-hidden--visually\" id=\"sk-estimator-id-12\" type=\"checkbox\" ><label for=\"sk-estimator-id-12\" class=\"sk-toggleable__label sk-toggleable__label-arrow\">BalancedBaggingClassifier</label><div class=\"sk-toggleable__content\"><pre>BalancedBaggingClassifier(base_estimator=DecisionTreeClassifier(class_weight=&#x27;balanced&#x27;,\n",
              "                                                                criterion=&#x27;entropy&#x27;,\n",
              "                                                                max_depth=5,\n",
              "                                                                random_state=42),\n",
              "                          random_state=42)</pre></div></div></div><div class=\"sk-parallel\"><div class=\"sk-parallel-item\"><div class=\"sk-item\"><div class=\"sk-label-container\"><div class=\"sk-label sk-toggleable\"><input class=\"sk-toggleable__control sk-hidden--visually\" id=\"sk-estimator-id-13\" type=\"checkbox\" ><label for=\"sk-estimator-id-13\" class=\"sk-toggleable__label sk-toggleable__label-arrow\">base_estimator: DecisionTreeClassifier</label><div class=\"sk-toggleable__content\"><pre>DecisionTreeClassifier(class_weight=&#x27;balanced&#x27;, criterion=&#x27;entropy&#x27;,\n",
              "                       max_depth=5, random_state=42)</pre></div></div></div><div class=\"sk-serial\"><div class=\"sk-item\"><div class=\"sk-estimator sk-toggleable\"><input class=\"sk-toggleable__control sk-hidden--visually\" id=\"sk-estimator-id-14\" type=\"checkbox\" ><label for=\"sk-estimator-id-14\" class=\"sk-toggleable__label sk-toggleable__label-arrow\">DecisionTreeClassifier</label><div class=\"sk-toggleable__content\"><pre>DecisionTreeClassifier(class_weight=&#x27;balanced&#x27;, criterion=&#x27;entropy&#x27;,\n",
              "                       max_depth=5, random_state=42)</pre></div></div></div></div></div></div></div></div></div></div>"
            ],
            "text/plain": [
              "BalancedBaggingClassifier(base_estimator=DecisionTreeClassifier(class_weight='balanced',\n",
              "                                                                criterion='entropy',\n",
              "                                                                max_depth=5,\n",
              "                                                                random_state=42),\n",
              "                          random_state=42)"
            ]
          },
          "execution_count": 71,
          "metadata": {},
          "output_type": "execute_result"
        }
      ],
      "source": [
        "bbc.fit(X_train, y_train)"
      ]
    },
    {
      "cell_type": "code",
      "execution_count": 72,
      "metadata": {
        "id": "luC4Y4GtVf_H"
      },
      "outputs": [],
      "source": [
        "y_pred = bbc.predict(X_test)"
      ]
    },
    {
      "cell_type": "code",
      "execution_count": 73,
      "metadata": {
        "colab": {
          "base_uri": "https://localhost:8080/",
          "height": 867
        },
        "id": "5mBAhHaeVsgn",
        "outputId": "4c046296-e635-49ac-d59e-3a75028ecfbb"
      },
      "outputs": [
        {
          "name": "stdout",
          "output_type": "stream",
          "text": [
            "Balanced Decision Tree with Bagging:\n"
          ]
        },
        {
          "data": {
            "image/png": "[encoded data removed]",
            "text/plain": [
              "<Figure size 1000x700 with 2 Axes>"
            ]
          },
          "metadata": {},
          "output_type": "display_data"
        },
        {
          "name": "stdout",
          "output_type": "stream",
          "text": [
            "              precision    recall  f1-score   support\n",
            "\n",
            "           0       0.96      0.98      0.97      3897\n",
            "           1       0.87      0.78      0.82      1410\n",
            "           2       0.44      0.58      0.50       253\n",
            "           3       0.29      0.44      0.35        72\n",
            "           4       0.49      0.36      0.41        97\n",
            "\n",
            "    accuracy                           0.89      5729\n",
            "   macro avg       0.61      0.63      0.61      5729\n",
            "weighted avg       0.90      0.89      0.90      5729\n",
            "\n"
          ]
        }
      ],
      "source": [
        "evaluate_model('Balanced Decision Tree with Bagging', y_pred)"
      ]
    },
    {
      "cell_type": "markdown",
      "metadata": {
        "id": "hZMFJ93HWXz1"
      },
      "source": [
        "## Balanced Decision Tree"
      ]
    },
    {
      "cell_type": "code",
      "execution_count": 74,
      "metadata": {
        "colab": {
          "base_uri": "https://localhost:8080/",
          "height": 92
        },
        "id": "pTKD_NF6WZX4",
        "outputId": "faaafac4-ba52-49fe-9f3b-c6b503182be8"
      },
      "outputs": [
        {
          "data": {
            "text/html": [
              "<style>#sk-container-id-11 {color: black;background-color: white;}#sk-container-id-11 pre{padding: 0;}#sk-container-id-11 div.sk-toggleable {background-color: white;}#sk-container-id-11 label.sk-toggleable__label {cursor: pointer;display: block;width: 100%;margin-bottom: 0;padding: 0.3em;box-sizing: border-box;text-align: center;}#sk-container-id-11 label.sk-toggleable__label-arrow:before {content: \"▸\";float: left;margin-right: 0.25em;color: #696969;}#sk-container-id-11 label.sk-toggleable__label-arrow:hover:before {color: black;}#sk-container-id-11 div.sk-estimator:hover label.sk-toggleable__label-arrow:before {color: black;}#sk-container-id-11 div.sk-toggleable__content {max-height: 0;max-width: 0;overflow: hidden;text-align: left;background-color: #f0f8ff;}#sk-container-id-11 div.sk-toggleable__content pre {margin: 0.2em;color: black;border-radius: 0.25em;background-color: #f0f8ff;}#sk-container-id-11 input.sk-toggleable__control:checked~div.sk-toggleable__content {max-height: 200px;max-width: 100%;overflow: auto;}#sk-container-id-11 input.sk-toggleable__control:checked~label.sk-toggleable__label-arrow:before {content: \"▾\";}#sk-container-id-11 div.sk-estimator input.sk-toggleable__control:checked~label.sk-toggleable__label {background-color: #d4ebff;}#sk-container-id-11 div.sk-label input.sk-toggleable__control:checked~label.sk-toggleable__label {background-color: #d4ebff;}#sk-container-id-11 input.sk-hidden--visually {border: 0;clip: rect(1px 1px 1px 1px);clip: rect(1px, 1px, 1px, 1px);height: 1px;margin: -1px;overflow: hidden;padding: 0;position: absolute;width: 1px;}#sk-container-id-11 div.sk-estimator {font-family: monospace;background-color: #f0f8ff;border: 1px dotted black;border-radius: 0.25em;box-sizing: border-box;margin-bottom: 0.5em;}#sk-container-id-11 div.sk-estimator:hover {background-color: #d4ebff;}#sk-container-id-11 div.sk-parallel-item::after {content: \"\";width: 100%;border-bottom: 1px solid gray;flex-grow: 1;}#sk-container-id-11 div.sk-label:hover label.sk-toggleable__label {background-color: #d4ebff;}#sk-container-id-11 div.sk-serial::before {content: \"\";position: absolute;border-left: 1px solid gray;box-sizing: border-box;top: 0;bottom: 0;left: 50%;z-index: 0;}#sk-container-id-11 div.sk-serial {display: flex;flex-direction: column;align-items: center;background-color: white;padding-right: 0.2em;padding-left: 0.2em;position: relative;}#sk-container-id-11 div.sk-item {position: relative;z-index: 1;}#sk-container-id-11 div.sk-parallel {display: flex;align-items: stretch;justify-content: center;background-color: white;position: relative;}#sk-container-id-11 div.sk-item::before, #sk-container-id-11 div.sk-parallel-item::before {content: \"\";position: absolute;border-left: 1px solid gray;box-sizing: border-box;top: 0;bottom: 0;left: 50%;z-index: -1;}#sk-container-id-11 div.sk-parallel-item {display: flex;flex-direction: column;z-index: 1;position: relative;background-color: white;}#sk-container-id-11 div.sk-parallel-item:first-child::after {align-self: flex-end;width: 50%;}#sk-container-id-11 div.sk-parallel-item:last-child::after {align-self: flex-start;width: 50%;}#sk-container-id-11 div.sk-parallel-item:only-child::after {width: 0;}#sk-container-id-11 div.sk-dashed-wrapped {border: 1px dashed gray;margin: 0 0.4em 0.5em 0.4em;box-sizing: border-box;padding-bottom: 0.4em;background-color: white;}#sk-container-id-11 div.sk-label label {font-family: monospace;font-weight: bold;display: inline-block;line-height: 1.2em;}#sk-container-id-11 div.sk-label-container {text-align: center;}#sk-container-id-11 div.sk-container {/* jupyter's `normalize.less` sets `[hidden] { display: none; }` but bootstrap.min.css set `[hidden] { display: none !important; }` so we also need the `!important` here to be able to override the default hidden behavior on the sphinx rendered scikit-learn.org. See: https://github.com/scikit-learn/scikit-learn/issues/21755 */display: inline-block !important;position: relative;}#sk-container-id-11 div.sk-text-repr-fallback {display: none;}</style><div id=\"sk-container-id-11\" class=\"sk-top-container\"><div class=\"sk-text-repr-fallback\"><pre>DecisionTreeClassifier(ccp_alpha=0.001, class_weight=&#x27;balanced&#x27;,\n",
              "                       criterion=&#x27;entropy&#x27;, max_depth=9, random_state=42)</pre><b>In a Jupyter environment, please rerun this cell to show the HTML representation or trust the notebook. <br />On GitHub, the HTML representation is unable to render, please try loading this page with nbviewer.org.</b></div><div class=\"sk-container\" hidden><div class=\"sk-item\"><div class=\"sk-estimator sk-toggleable\"><input class=\"sk-toggleable__control sk-hidden--visually\" id=\"sk-estimator-id-15\" type=\"checkbox\" checked><label for=\"sk-estimator-id-15\" class=\"sk-toggleable__label sk-toggleable__label-arrow\">DecisionTreeClassifier</label><div class=\"sk-toggleable__content\"><pre>DecisionTreeClassifier(ccp_alpha=0.001, class_weight=&#x27;balanced&#x27;,\n",
              "                       criterion=&#x27;entropy&#x27;, max_depth=9, random_state=42)</pre></div></div></div></div></div>"
            ],
            "text/plain": [
              "DecisionTreeClassifier(ccp_alpha=0.001, class_weight='balanced',\n",
              "                       criterion='entropy', max_depth=9, random_state=42)"
            ]
          },
          "execution_count": 74,
          "metadata": {},
          "output_type": "execute_result"
        }
      ],
      "source": [
        "bdt_model = DecisionTreeClassifier(ccp_alpha=0.001, criterion='entropy', max_depth=9, class_weight='balanced', random_state=42)\n",
        "bdt_model.fit(X_train, y_train)"
      ]
    },
    {
      "cell_type": "code",
      "execution_count": 75,
      "metadata": {
        "id": "xzmd7BooXHTh"
      },
      "outputs": [],
      "source": [
        "y_pred = bdt_model.predict(X_test)"
      ]
    },
    {
      "cell_type": "code",
      "execution_count": 76,
      "metadata": {
        "colab": {
          "base_uri": "https://localhost:8080/",
          "height": 867
        },
        "id": "MIXz7InUXOWz",
        "outputId": "4b86818f-a784-4369-e591-eb49f986f955"
      },
      "outputs": [
        {
          "name": "stdout",
          "output_type": "stream",
          "text": [
            "Balanced Decision Tree:\n"
          ]
        },
        {
          "data": {
            "image/png": "[encoded data removed]",
            "text/plain": [
              "<Figure size 1000x700 with 2 Axes>"
            ]
          },
          "metadata": {},
          "output_type": "display_data"
        },
        {
          "name": "stdout",
          "output_type": "stream",
          "text": [
            "              precision    recall  f1-score   support\n",
            "\n",
            "           0       0.97      0.97      0.97      3897\n",
            "           1       0.88      0.68      0.76      1410\n",
            "           2       0.31      0.49      0.38       253\n",
            "           3       0.17      0.44      0.25        72\n",
            "           4       0.23      0.31      0.26        97\n",
            "\n",
            "    accuracy                           0.86      5729\n",
            "   macro avg       0.51      0.58      0.52      5729\n",
            "weighted avg       0.89      0.86      0.87      5729\n",
            "\n"
          ]
        }
      ],
      "source": [
        "evaluate_model('Balanced Decision Tree', y_pred)"
      ]
    },
    {
      "cell_type": "markdown",
      "metadata": {
        "id": "ASYwexEJNXTi"
      },
      "source": [
        "## Support Vector Machine"
      ]
    },
    {
      "cell_type": "code",
      "execution_count": 78,
      "metadata": {
        "colab": {
          "base_uri": "https://localhost:8080/",
          "height": 75
        },
        "id": "N2e7OEshdyGE",
        "outputId": "64201112-aa9d-4abd-cd10-0857322daede"
      },
      "outputs": [
        {
          "data": {
            "text/html": [
              "<style>#sk-container-id-12 {color: black;background-color: white;}#sk-container-id-12 pre{padding: 0;}#sk-container-id-12 div.sk-toggleable {background-color: white;}#sk-container-id-12 label.sk-toggleable__label {cursor: pointer;display: block;width: 100%;margin-bottom: 0;padding: 0.3em;box-sizing: border-box;text-align: center;}#sk-container-id-12 label.sk-toggleable__label-arrow:before {content: \"▸\";float: left;margin-right: 0.25em;color: #696969;}#sk-container-id-12 label.sk-toggleable__label-arrow:hover:before {color: black;}#sk-container-id-12 div.sk-estimator:hover label.sk-toggleable__label-arrow:before {color: black;}#sk-container-id-12 div.sk-toggleable__content {max-height: 0;max-width: 0;overflow: hidden;text-align: left;background-color: #f0f8ff;}#sk-container-id-12 div.sk-toggleable__content pre {margin: 0.2em;color: black;border-radius: 0.25em;background-color: #f0f8ff;}#sk-container-id-12 input.sk-toggleable__control:checked~div.sk-toggleable__content {max-height: 200px;max-width: 100%;overflow: auto;}#sk-container-id-12 input.sk-toggleable__control:checked~label.sk-toggleable__label-arrow:before {content: \"▾\";}#sk-container-id-12 div.sk-estimator input.sk-toggleable__control:checked~label.sk-toggleable__label {background-color: #d4ebff;}#sk-container-id-12 div.sk-label input.sk-toggleable__control:checked~label.sk-toggleable__label {background-color: #d4ebff;}#sk-container-id-12 input.sk-hidden--visually {border: 0;clip: rect(1px 1px 1px 1px);clip: rect(1px, 1px, 1px, 1px);height: 1px;margin: -1px;overflow: hidden;padding: 0;position: absolute;width: 1px;}#sk-container-id-12 div.sk-estimator {font-family: monospace;background-color: #f0f8ff;border: 1px dotted black;border-radius: 0.25em;box-sizing: border-box;margin-bottom: 0.5em;}#sk-container-id-12 div.sk-estimator:hover {background-color: #d4ebff;}#sk-container-id-12 div.sk-parallel-item::after {content: \"\";width: 100%;border-bottom: 1px solid gray;flex-grow: 1;}#sk-container-id-12 div.sk-label:hover label.sk-toggleable__label {background-color: #d4ebff;}#sk-container-id-12 div.sk-serial::before {content: \"\";position: absolute;border-left: 1px solid gray;box-sizing: border-box;top: 0;bottom: 0;left: 50%;z-index: 0;}#sk-container-id-12 div.sk-serial {display: flex;flex-direction: column;align-items: center;background-color: white;padding-right: 0.2em;padding-left: 0.2em;position: relative;}#sk-container-id-12 div.sk-item {position: relative;z-index: 1;}#sk-container-id-12 div.sk-parallel {display: flex;align-items: stretch;justify-content: center;background-color: white;position: relative;}#sk-container-id-12 div.sk-item::before, #sk-container-id-12 div.sk-parallel-item::before {content: \"\";position: absolute;border-left: 1px solid gray;box-sizing: border-box;top: 0;bottom: 0;left: 50%;z-index: -1;}#sk-container-id-12 div.sk-parallel-item {display: flex;flex-direction: column;z-index: 1;position: relative;background-color: white;}#sk-container-id-12 div.sk-parallel-item:first-child::after {align-self: flex-end;width: 50%;}#sk-container-id-12 div.sk-parallel-item:last-child::after {align-self: flex-start;width: 50%;}#sk-container-id-12 div.sk-parallel-item:only-child::after {width: 0;}#sk-container-id-12 div.sk-dashed-wrapped {border: 1px dashed gray;margin: 0 0.4em 0.5em 0.4em;box-sizing: border-box;padding-bottom: 0.4em;background-color: white;}#sk-container-id-12 div.sk-label label {font-family: monospace;font-weight: bold;display: inline-block;line-height: 1.2em;}#sk-container-id-12 div.sk-label-container {text-align: center;}#sk-container-id-12 div.sk-container {/* jupyter's `normalize.less` sets `[hidden] { display: none; }` but bootstrap.min.css set `[hidden] { display: none !important; }` so we also need the `!important` here to be able to override the default hidden behavior on the sphinx rendered scikit-learn.org. See: https://github.com/scikit-learn/scikit-learn/issues/21755 */display: inline-block !important;position: relative;}#sk-container-id-12 div.sk-text-repr-fallback {display: none;}</style><div id=\"sk-container-id-12\" class=\"sk-top-container\"><div class=\"sk-text-repr-fallback\"><pre>SVC(kernel=&#x27;linear&#x27;, probability=True, random_state=42)</pre><b>In a Jupyter environment, please rerun this cell to show the HTML representation or trust the notebook. <br />On GitHub, the HTML representation is unable to render, please try loading this page with nbviewer.org.</b></div><div class=\"sk-container\" hidden><div class=\"sk-item\"><div class=\"sk-estimator sk-toggleable\"><input class=\"sk-toggleable__control sk-hidden--visually\" id=\"sk-estimator-id-16\" type=\"checkbox\" checked><label for=\"sk-estimator-id-16\" class=\"sk-toggleable__label sk-toggleable__label-arrow\">SVC</label><div class=\"sk-toggleable__content\"><pre>SVC(kernel=&#x27;linear&#x27;, probability=True, random_state=42)</pre></div></div></div></div></div>"
            ],
            "text/plain": [
              "SVC(kernel='linear', probability=True, random_state=42)"
            ]
          },
          "execution_count": 78,
          "metadata": {},
          "output_type": "execute_result"
        }
      ],
      "source": [
        "svc_model = SVC(kernel='linear', probability=True, random_state=42)\n",
        "svc_model.fit(X_train, y_train)"
      ]
    },
    {
      "cell_type": "code",
      "execution_count": 79,
      "metadata": {
        "id": "QL_kyqRHNeRS"
      },
      "outputs": [],
      "source": [
        "y_pred = svc_model.predict(X_test)"
      ]
    },
    {
      "cell_type": "code",
      "execution_count": 80,
      "metadata": {
        "colab": {
          "base_uri": "https://localhost:8080/",
          "height": 867
        },
        "id": "Wl1O4Z2TN-sq",
        "outputId": "7fa51d28-2ee5-416e-f61a-8b6eb2096b77"
      },
      "outputs": [
        {
          "name": "stdout",
          "output_type": "stream",
          "text": [
            "Support Vector Machine:\n"
          ]
        },
        {
          "data": {
            "image/png": "[encoded data removed]",
            "text/plain": [
              "<Figure size 1000x700 with 2 Axes>"
            ]
          },
          "metadata": {},
          "output_type": "display_data"
        },
        {
          "name": "stdout",
          "output_type": "stream",
          "text": [
            "              precision    recall  f1-score   support\n",
            "\n",
            "           0       0.84      0.92      0.88      3897\n",
            "           1       0.58      0.52      0.55      1410\n",
            "           2       0.54      0.22      0.31       253\n",
            "           3       0.51      0.26      0.35        72\n",
            "           4       0.72      0.35      0.47        97\n",
            "\n",
            "    accuracy                           0.77      5729\n",
            "   macro avg       0.64      0.45      0.51      5729\n",
            "weighted avg       0.75      0.77      0.76      5729\n",
            "\n"
          ]
        }
      ],
      "source": [
        "evaluate_model('Support Vector Machine', y_pred)"
      ]
    },
    {
      "cell_type": "markdown",
      "metadata": {
        "id": "BJqJHbhF0MAh"
      },
      "source": [
        "## K-Nearest Neighbors"
      ]
    },
    {
      "cell_type": "code",
      "execution_count": 50,
      "metadata": {
        "colab": {
          "base_uri": "https://localhost:8080/",
          "height": 75
        },
        "id": "YySbhVdv0KC9",
        "outputId": "3b4513b9-1d89-4cfd-8da1-c6918f63f04e"
      },
      "outputs": [
        {
          "data": {
            "text/html": [
              "<style>#sk-container-id-7 {color: black;background-color: white;}#sk-container-id-7 pre{padding: 0;}#sk-container-id-7 div.sk-toggleable {background-color: white;}#sk-container-id-7 label.sk-toggleable__label {cursor: pointer;display: block;width: 100%;margin-bottom: 0;padding: 0.3em;box-sizing: border-box;text-align: center;}#sk-container-id-7 label.sk-toggleable__label-arrow:before {content: \"▸\";float: left;margin-right: 0.25em;color: #696969;}#sk-container-id-7 label.sk-toggleable__label-arrow:hover:before {color: black;}#sk-container-id-7 div.sk-estimator:hover label.sk-toggleable__label-arrow:before {color: black;}#sk-container-id-7 div.sk-toggleable__content {max-height: 0;max-width: 0;overflow: hidden;text-align: left;background-color: #f0f8ff;}#sk-container-id-7 div.sk-toggleable__content pre {margin: 0.2em;color: black;border-radius: 0.25em;background-color: #f0f8ff;}#sk-container-id-7 input.sk-toggleable__control:checked~div.sk-toggleable__content {max-height: 200px;max-width: 100%;overflow: auto;}#sk-container-id-7 input.sk-toggleable__control:checked~label.sk-toggleable__label-arrow:before {content: \"▾\";}#sk-container-id-7 div.sk-estimator input.sk-toggleable__control:checked~label.sk-toggleable__label {background-color: #d4ebff;}#sk-container-id-7 div.sk-label input.sk-toggleable__control:checked~label.sk-toggleable__label {background-color: #d4ebff;}#sk-container-id-7 input.sk-hidden--visually {border: 0;clip: rect(1px 1px 1px 1px);clip: rect(1px, 1px, 1px, 1px);height: 1px;margin: -1px;overflow: hidden;padding: 0;position: absolute;width: 1px;}#sk-container-id-7 div.sk-estimator {font-family: monospace;background-color: #f0f8ff;border: 1px dotted black;border-radius: 0.25em;box-sizing: border-box;margin-bottom: 0.5em;}#sk-container-id-7 div.sk-estimator:hover {background-color: #d4ebff;}#sk-container-id-7 div.sk-parallel-item::after {content: \"\";width: 100%;border-bottom: 1px solid gray;flex-grow: 1;}#sk-container-id-7 div.sk-label:hover label.sk-toggleable__label {background-color: #d4ebff;}#sk-container-id-7 div.sk-serial::before {content: \"\";position: absolute;border-left: 1px solid gray;box-sizing: border-box;top: 0;bottom: 0;left: 50%;z-index: 0;}#sk-container-id-7 div.sk-serial {display: flex;flex-direction: column;align-items: center;background-color: white;padding-right: 0.2em;padding-left: 0.2em;position: relative;}#sk-container-id-7 div.sk-item {position: relative;z-index: 1;}#sk-container-id-7 div.sk-parallel {display: flex;align-items: stretch;justify-content: center;background-color: white;position: relative;}#sk-container-id-7 div.sk-item::before, #sk-container-id-7 div.sk-parallel-item::before {content: \"\";position: absolute;border-left: 1px solid gray;box-sizing: border-box;top: 0;bottom: 0;left: 50%;z-index: -1;}#sk-container-id-7 div.sk-parallel-item {display: flex;flex-direction: column;z-index: 1;position: relative;background-color: white;}#sk-container-id-7 div.sk-parallel-item:first-child::after {align-self: flex-end;width: 50%;}#sk-container-id-7 div.sk-parallel-item:last-child::after {align-self: flex-start;width: 50%;}#sk-container-id-7 div.sk-parallel-item:only-child::after {width: 0;}#sk-container-id-7 div.sk-dashed-wrapped {border: 1px dashed gray;margin: 0 0.4em 0.5em 0.4em;box-sizing: border-box;padding-bottom: 0.4em;background-color: white;}#sk-container-id-7 div.sk-label label {font-family: monospace;font-weight: bold;display: inline-block;line-height: 1.2em;}#sk-container-id-7 div.sk-label-container {text-align: center;}#sk-container-id-7 div.sk-container {/* jupyter's `normalize.less` sets `[hidden] { display: none; }` but bootstrap.min.css set `[hidden] { display: none !important; }` so we also need the `!important` here to be able to override the default hidden behavior on the sphinx rendered scikit-learn.org. See: https://github.com/scikit-learn/scikit-learn/issues/21755 */display: inline-block !important;position: relative;}#sk-container-id-7 div.sk-text-repr-fallback {display: none;}</style><div id=\"sk-container-id-7\" class=\"sk-top-container\"><div class=\"sk-text-repr-fallback\"><pre>KNeighborsClassifier(n_neighbors=2, p=1)</pre><b>In a Jupyter environment, please rerun this cell to show the HTML representation or trust the notebook. <br />On GitHub, the HTML representation is unable to render, please try loading this page with nbviewer.org.</b></div><div class=\"sk-container\" hidden><div class=\"sk-item\"><div class=\"sk-estimator sk-toggleable\"><input class=\"sk-toggleable__control sk-hidden--visually\" id=\"sk-estimator-id-9\" type=\"checkbox\" checked><label for=\"sk-estimator-id-9\" class=\"sk-toggleable__label sk-toggleable__label-arrow\">KNeighborsClassifier</label><div class=\"sk-toggleable__content\"><pre>KNeighborsClassifier(n_neighbors=2, p=1)</pre></div></div></div></div></div>"
            ],
            "text/plain": [
              "KNeighborsClassifier(n_neighbors=2, p=1)"
            ]
          },
          "execution_count": 50,
          "metadata": {},
          "output_type": "execute_result"
        }
      ],
      "source": [
        "knn_model = KNeighborsClassifier(n_neighbors=2, p=1, weights='uniform')\n",
        "knn_model.fit(X_train, y_train)"
      ]
    },
    {
      "cell_type": "code",
      "execution_count": 51,
      "metadata": {
        "id": "avdxz2Lr0QyM"
      },
      "outputs": [],
      "source": [
        "y_pred = knn_model.predict(X_test)"
      ]
    },
    {
      "cell_type": "code",
      "execution_count": 62,
      "metadata": {
        "colab": {
          "base_uri": "https://localhost:8080/",
          "height": 867
        },
        "id": "Wwc1wZSK0jC3",
        "outputId": "892006de-ce65-4ef7-9fa6-3cd2da247487"
      },
      "outputs": [
        {
          "name": "stdout",
          "output_type": "stream",
          "text": [
            "KNN:\n"
          ]
        },
        {
          "data": {
            "image/png": "[encoded data removed]",
            "text/plain": [
              "<Figure size 1000x700 with 2 Axes>"
            ]
          },
          "metadata": {},
          "output_type": "display_data"
        },
        {
          "name": "stdout",
          "output_type": "stream",
          "text": [
            "              precision    recall  f1-score   support\n",
            "\n",
            "           0       0.76      0.93      0.84      3897\n",
            "           1       0.47      0.28      0.35      1410\n",
            "           2       0.18      0.04      0.06       253\n",
            "           3       0.22      0.06      0.09        72\n",
            "           4       0.83      0.10      0.18        97\n",
            "\n",
            "    accuracy                           0.71      5729\n",
            "   macro avg       0.49      0.28      0.30      5729\n",
            "weighted avg       0.65      0.71      0.66      5729\n",
            "\n"
          ]
        }
      ],
      "source": [
        "evaluate_model('KNN', y_pred)"
      ]
    },
    {
      "cell_type": "markdown",
      "metadata": {
        "id": "suTxiJrC09SX"
      },
      "source": [
        "# Comparing the models"
      ]
    },
    {
      "cell_type": "code",
      "execution_count": 59,
      "metadata": {
        "colab": {
          "base_uri": "https://localhost:8080/",
          "height": 387
        },
        "id": "fdMO1jAr02pg",
        "outputId": "eefea466-57eb-440b-bcdb-7b3362e8d540"
      },
      "outputs": [
        {
          "data": {
            "image/png": "[encoded data removed]",
            "text/plain": [
              "<Figure size 2000x700 with 1 Axes>"
            ]
          },
          "metadata": {},
          "output_type": "display_data"
        }
      ],
      "source": [
        "# Set the size of the plot\n",
        "plt.figure(figsize=(20, 7))\n",
        "\n",
        "# Number of models\n",
        "n_models = len(model_stats)\n",
        "\n",
        "# X locations for the groups\n",
        "ind = np.arange(n_models)\n",
        "\n",
        "# Width of the bars\n",
        "width = 0.2\n",
        "\n",
        "# Plotting\n",
        "plt.bar(ind, model_stats['Accuracy'], width, label='Accuracy', color='red')\n",
        "plt.bar(ind + width, model_stats['Precision'], width, label='Macro Precision', color=\"orange\")\n",
        "plt.bar(ind + 2*width, model_stats['Recall'], width, label='Macro Recall', color=\"green\")\n",
        "plt.bar(ind + 3*width, model_stats['F1 Score'], width, label='Macro F1 Score', color=\"blue\")\n",
        "\n",
        "# Add some text for labels, title and custom x-axis tick labels, etc.\n",
        "plt.ylabel('Scores')\n",
        "plt.title('Macro-Averaged Scores by Model')\n",
        "plt.xticks(ind + width * 1.5, model_stats['Model'])\n",
        "plt.legend(loc='best')\n",
        "\n",
        "# Adding the values on top of the bars\n",
        "for i in ind:\n",
        "    plt.text(x=i, y=model_stats['Accuracy'][i] + 0.01, s=f\"{model_stats['Accuracy'][i]:.2f}\", ha='center')\n",
        "    plt.text(x=i + width, y=model_stats['Precision'][i] + 0.01, s=f\"{model_stats['Precision'][i]:.2f}\", ha='center')\n",
        "    plt.text(x=i + 2*width, y=model_stats['Recall'][i] + 0.01, s=f\"{model_stats['Recall'][i]:.2f}\", ha='center')\n",
        "    plt.text(x=i + 3*width, y=model_stats['F1 Score'][i] + 0.01, s=f\"{model_stats['F1 Score'][i]:.2f}\", ha='center')\n",
        "\n",
        "plt.tight_layout()\n",
        "plt.show()"
      ]
    },
    {
      "cell_type": "markdown",
      "metadata": {
        "id": "pl3s50jU1YaV"
      },
      "source": [
        "# Evaluation\n",
        "\n",
        "As can be seen, XGBoost results in the best accuracy. However, because of the imbalanced dataset, where there were more data points for size classes A and B and less data points for size classes D and E, the models suffered. The Balanced Decision Tree with Bagging ended up having the best accuracy with classes with less data points. This resulted in them having the best Recall score.\n",
        "\n",
        "Although XGBoost has the best accuracy, it may be more effective to use Balanced Decision Tree with Bagging as it provided more consistent results for all size classes which should be the priority."
      ]
    }
  ],
  "metadata": {
    "colab": {
      "provenance": [],
      "toc_visible": true
    },
    "kernelspec": {
      "display_name": "Python 3",
      "name": "python3"
    },
    "language_info": {
      "codemirror_mode": {
        "name": "ipython",
        "version": 3
      },
      "file_extension": ".py",
      "mimetype": "text/x-python",
      "name": "python",
      "nbconvert_exporter": "python",
      "pygments_lexer": "ipython3",
      "version": "3.12.1"
    }
  },
  "nbformat": 4,
  "nbformat_minor": 0
}
